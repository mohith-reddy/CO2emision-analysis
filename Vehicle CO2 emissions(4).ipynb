{
 "cells": [
  {
   "cell_type": "markdown",
   "metadata": {},
   "source": [
    "## Importing Libraries"
   ]
  },
  {
   "cell_type": "code",
   "execution_count": 1,
   "metadata": {},
   "outputs": [],
   "source": [
    "import pandas as pd #used for data manipulation\n",
    "import numpy as np #used for numerical analysis\n",
    "from collections import Counter as c # return counts\n",
    "import seaborn as sns #used for data Visualization\n",
    "import matplotlib.pyplot as plt\n",
    "import missingno as msno #finding missing values\n",
    "from sklearn.model_selection import train_test_split #splits data in random train and test array\n",
    "from sklearn.metrics import accuracy_score,mean_squared_error,mean_absolute_error#model performance\n",
    "import pickle #Python object hierarchy is converted into a byte stream,\n",
    "from sklearn.linear_model import LinearRegression #Regresssion ML algorithm"
   ]
  },
  {
   "cell_type": "markdown",
   "metadata": {},
   "source": [
    "## Uploading Dataset"
   ]
  },
  {
   "cell_type": "code",
   "execution_count": 2,
   "metadata": {},
   "outputs": [],
   "source": [
    "data=pd.read_csv(\"FuelConsumptionCo2.csv\") "
   ]
  },
  {
   "cell_type": "code",
   "execution_count": 3,
   "metadata": {},
   "outputs": [
    {
     "data": {
      "text/html": [
       "<div>\n",
       "<style scoped>\n",
       "    .dataframe tbody tr th:only-of-type {\n",
       "        vertical-align: middle;\n",
       "    }\n",
       "\n",
       "    .dataframe tbody tr th {\n",
       "        vertical-align: top;\n",
       "    }\n",
       "\n",
       "    .dataframe thead th {\n",
       "        text-align: right;\n",
       "    }\n",
       "</style>\n",
       "<table border=\"1\" class=\"dataframe\">\n",
       "  <thead>\n",
       "    <tr style=\"text-align: right;\">\n",
       "      <th></th>\n",
       "      <th>MODELYEAR</th>\n",
       "      <th>MAKE</th>\n",
       "      <th>MODEL</th>\n",
       "      <th>VEHICLECLASS</th>\n",
       "      <th>ENGINESIZE</th>\n",
       "      <th>CYLINDERS</th>\n",
       "      <th>TRANSMISSION</th>\n",
       "      <th>FUELTYPE</th>\n",
       "      <th>FUELCONSUMPTION_CITY</th>\n",
       "      <th>FUELCONSUMPTION_HWY</th>\n",
       "      <th>FUELCONSUMPTION_COMB</th>\n",
       "      <th>FUELCONSUMPTION_COMB_MPG</th>\n",
       "      <th>CO2EMISSIONS</th>\n",
       "    </tr>\n",
       "  </thead>\n",
       "  <tbody>\n",
       "    <tr>\n",
       "      <th>0</th>\n",
       "      <td>2014</td>\n",
       "      <td>ACURA</td>\n",
       "      <td>ILX</td>\n",
       "      <td>COMPACT</td>\n",
       "      <td>2.0</td>\n",
       "      <td>4</td>\n",
       "      <td>AS5</td>\n",
       "      <td>Z</td>\n",
       "      <td>9.9</td>\n",
       "      <td>6.7</td>\n",
       "      <td>8.5</td>\n",
       "      <td>33</td>\n",
       "      <td>196</td>\n",
       "    </tr>\n",
       "    <tr>\n",
       "      <th>1</th>\n",
       "      <td>2014</td>\n",
       "      <td>ACURA</td>\n",
       "      <td>ILX</td>\n",
       "      <td>COMPACT</td>\n",
       "      <td>2.4</td>\n",
       "      <td>4</td>\n",
       "      <td>M6</td>\n",
       "      <td>Z</td>\n",
       "      <td>11.2</td>\n",
       "      <td>7.7</td>\n",
       "      <td>9.6</td>\n",
       "      <td>29</td>\n",
       "      <td>221</td>\n",
       "    </tr>\n",
       "    <tr>\n",
       "      <th>2</th>\n",
       "      <td>2014</td>\n",
       "      <td>ACURA</td>\n",
       "      <td>ILX HYBRID</td>\n",
       "      <td>COMPACT</td>\n",
       "      <td>1.5</td>\n",
       "      <td>4</td>\n",
       "      <td>AV7</td>\n",
       "      <td>Z</td>\n",
       "      <td>6.0</td>\n",
       "      <td>5.8</td>\n",
       "      <td>5.9</td>\n",
       "      <td>48</td>\n",
       "      <td>136</td>\n",
       "    </tr>\n",
       "    <tr>\n",
       "      <th>3</th>\n",
       "      <td>2014</td>\n",
       "      <td>ACURA</td>\n",
       "      <td>MDX 4WD</td>\n",
       "      <td>SUV - SMALL</td>\n",
       "      <td>3.5</td>\n",
       "      <td>6</td>\n",
       "      <td>AS6</td>\n",
       "      <td>Z</td>\n",
       "      <td>12.7</td>\n",
       "      <td>9.1</td>\n",
       "      <td>11.1</td>\n",
       "      <td>25</td>\n",
       "      <td>255</td>\n",
       "    </tr>\n",
       "    <tr>\n",
       "      <th>4</th>\n",
       "      <td>2014</td>\n",
       "      <td>ACURA</td>\n",
       "      <td>RDX AWD</td>\n",
       "      <td>SUV - SMALL</td>\n",
       "      <td>3.5</td>\n",
       "      <td>6</td>\n",
       "      <td>AS6</td>\n",
       "      <td>Z</td>\n",
       "      <td>12.1</td>\n",
       "      <td>8.7</td>\n",
       "      <td>10.6</td>\n",
       "      <td>27</td>\n",
       "      <td>244</td>\n",
       "    </tr>\n",
       "    <tr>\n",
       "      <th>...</th>\n",
       "      <td>...</td>\n",
       "      <td>...</td>\n",
       "      <td>...</td>\n",
       "      <td>...</td>\n",
       "      <td>...</td>\n",
       "      <td>...</td>\n",
       "      <td>...</td>\n",
       "      <td>...</td>\n",
       "      <td>...</td>\n",
       "      <td>...</td>\n",
       "      <td>...</td>\n",
       "      <td>...</td>\n",
       "      <td>...</td>\n",
       "    </tr>\n",
       "    <tr>\n",
       "      <th>1062</th>\n",
       "      <td>2014</td>\n",
       "      <td>VOLVO</td>\n",
       "      <td>XC60 AWD</td>\n",
       "      <td>SUV - SMALL</td>\n",
       "      <td>3.0</td>\n",
       "      <td>6</td>\n",
       "      <td>AS6</td>\n",
       "      <td>X</td>\n",
       "      <td>13.4</td>\n",
       "      <td>9.8</td>\n",
       "      <td>11.8</td>\n",
       "      <td>24</td>\n",
       "      <td>271</td>\n",
       "    </tr>\n",
       "    <tr>\n",
       "      <th>1063</th>\n",
       "      <td>2014</td>\n",
       "      <td>VOLVO</td>\n",
       "      <td>XC60 AWD</td>\n",
       "      <td>SUV - SMALL</td>\n",
       "      <td>3.2</td>\n",
       "      <td>6</td>\n",
       "      <td>AS6</td>\n",
       "      <td>X</td>\n",
       "      <td>13.2</td>\n",
       "      <td>9.5</td>\n",
       "      <td>11.5</td>\n",
       "      <td>25</td>\n",
       "      <td>264</td>\n",
       "    </tr>\n",
       "    <tr>\n",
       "      <th>1064</th>\n",
       "      <td>2014</td>\n",
       "      <td>VOLVO</td>\n",
       "      <td>XC70 AWD</td>\n",
       "      <td>SUV - SMALL</td>\n",
       "      <td>3.0</td>\n",
       "      <td>6</td>\n",
       "      <td>AS6</td>\n",
       "      <td>X</td>\n",
       "      <td>13.4</td>\n",
       "      <td>9.8</td>\n",
       "      <td>11.8</td>\n",
       "      <td>24</td>\n",
       "      <td>271</td>\n",
       "    </tr>\n",
       "    <tr>\n",
       "      <th>1065</th>\n",
       "      <td>2014</td>\n",
       "      <td>VOLVO</td>\n",
       "      <td>XC70 AWD</td>\n",
       "      <td>SUV - SMALL</td>\n",
       "      <td>3.2</td>\n",
       "      <td>6</td>\n",
       "      <td>AS6</td>\n",
       "      <td>X</td>\n",
       "      <td>12.9</td>\n",
       "      <td>9.3</td>\n",
       "      <td>11.3</td>\n",
       "      <td>25</td>\n",
       "      <td>260</td>\n",
       "    </tr>\n",
       "    <tr>\n",
       "      <th>1066</th>\n",
       "      <td>2014</td>\n",
       "      <td>VOLVO</td>\n",
       "      <td>XC90 AWD</td>\n",
       "      <td>SUV - STANDARD</td>\n",
       "      <td>3.2</td>\n",
       "      <td>6</td>\n",
       "      <td>AS6</td>\n",
       "      <td>X</td>\n",
       "      <td>14.9</td>\n",
       "      <td>10.2</td>\n",
       "      <td>12.8</td>\n",
       "      <td>22</td>\n",
       "      <td>294</td>\n",
       "    </tr>\n",
       "  </tbody>\n",
       "</table>\n",
       "<p>1067 rows × 13 columns</p>\n",
       "</div>"
      ],
      "text/plain": [
       "      MODELYEAR   MAKE       MODEL    VEHICLECLASS  ENGINESIZE  CYLINDERS  \\\n",
       "0          2014  ACURA         ILX         COMPACT         2.0          4   \n",
       "1          2014  ACURA         ILX         COMPACT         2.4          4   \n",
       "2          2014  ACURA  ILX HYBRID         COMPACT         1.5          4   \n",
       "3          2014  ACURA     MDX 4WD     SUV - SMALL         3.5          6   \n",
       "4          2014  ACURA     RDX AWD     SUV - SMALL         3.5          6   \n",
       "...         ...    ...         ...             ...         ...        ...   \n",
       "1062       2014  VOLVO    XC60 AWD     SUV - SMALL         3.0          6   \n",
       "1063       2014  VOLVO    XC60 AWD     SUV - SMALL         3.2          6   \n",
       "1064       2014  VOLVO    XC70 AWD     SUV - SMALL         3.0          6   \n",
       "1065       2014  VOLVO    XC70 AWD     SUV - SMALL         3.2          6   \n",
       "1066       2014  VOLVO    XC90 AWD  SUV - STANDARD         3.2          6   \n",
       "\n",
       "     TRANSMISSION FUELTYPE  FUELCONSUMPTION_CITY  FUELCONSUMPTION_HWY  \\\n",
       "0             AS5        Z                   9.9                  6.7   \n",
       "1              M6        Z                  11.2                  7.7   \n",
       "2             AV7        Z                   6.0                  5.8   \n",
       "3             AS6        Z                  12.7                  9.1   \n",
       "4             AS6        Z                  12.1                  8.7   \n",
       "...           ...      ...                   ...                  ...   \n",
       "1062          AS6        X                  13.4                  9.8   \n",
       "1063          AS6        X                  13.2                  9.5   \n",
       "1064          AS6        X                  13.4                  9.8   \n",
       "1065          AS6        X                  12.9                  9.3   \n",
       "1066          AS6        X                  14.9                 10.2   \n",
       "\n",
       "      FUELCONSUMPTION_COMB  FUELCONSUMPTION_COMB_MPG  CO2EMISSIONS  \n",
       "0                      8.5                        33           196  \n",
       "1                      9.6                        29           221  \n",
       "2                      5.9                        48           136  \n",
       "3                     11.1                        25           255  \n",
       "4                     10.6                        27           244  \n",
       "...                    ...                       ...           ...  \n",
       "1062                  11.8                        24           271  \n",
       "1063                  11.5                        25           264  \n",
       "1064                  11.8                        24           271  \n",
       "1065                  11.3                        25           260  \n",
       "1066                  12.8                        22           294  \n",
       "\n",
       "[1067 rows x 13 columns]"
      ]
     },
     "execution_count": 3,
     "metadata": {},
     "output_type": "execute_result"
    }
   ],
   "source": [
    "data"
   ]
  },
  {
   "cell_type": "code",
   "execution_count": 4,
   "metadata": {},
   "outputs": [
    {
     "data": {
      "text/html": [
       "<div>\n",
       "<style scoped>\n",
       "    .dataframe tbody tr th:only-of-type {\n",
       "        vertical-align: middle;\n",
       "    }\n",
       "\n",
       "    .dataframe tbody tr th {\n",
       "        vertical-align: top;\n",
       "    }\n",
       "\n",
       "    .dataframe thead th {\n",
       "        text-align: right;\n",
       "    }\n",
       "</style>\n",
       "<table border=\"1\" class=\"dataframe\">\n",
       "  <thead>\n",
       "    <tr style=\"text-align: right;\">\n",
       "      <th></th>\n",
       "      <th>MODELYEAR</th>\n",
       "      <th>MAKE</th>\n",
       "      <th>MODEL</th>\n",
       "      <th>VEHICLECLASS</th>\n",
       "      <th>ENGINESIZE</th>\n",
       "      <th>CYLINDERS</th>\n",
       "      <th>TRANSMISSION</th>\n",
       "      <th>FUELTYPE</th>\n",
       "      <th>FUELCONSUMPTION_CITY</th>\n",
       "      <th>FUELCONSUMPTION_HWY</th>\n",
       "      <th>FUELCONSUMPTION_COMB</th>\n",
       "      <th>FUELCONSUMPTION_COMB_MPG</th>\n",
       "      <th>CO2EMISSIONS</th>\n",
       "    </tr>\n",
       "  </thead>\n",
       "  <tbody>\n",
       "    <tr>\n",
       "      <th>0</th>\n",
       "      <td>2014</td>\n",
       "      <td>ACURA</td>\n",
       "      <td>ILX</td>\n",
       "      <td>COMPACT</td>\n",
       "      <td>2.0</td>\n",
       "      <td>4</td>\n",
       "      <td>AS5</td>\n",
       "      <td>Z</td>\n",
       "      <td>9.9</td>\n",
       "      <td>6.7</td>\n",
       "      <td>8.5</td>\n",
       "      <td>33</td>\n",
       "      <td>196</td>\n",
       "    </tr>\n",
       "    <tr>\n",
       "      <th>1</th>\n",
       "      <td>2014</td>\n",
       "      <td>ACURA</td>\n",
       "      <td>ILX</td>\n",
       "      <td>COMPACT</td>\n",
       "      <td>2.4</td>\n",
       "      <td>4</td>\n",
       "      <td>M6</td>\n",
       "      <td>Z</td>\n",
       "      <td>11.2</td>\n",
       "      <td>7.7</td>\n",
       "      <td>9.6</td>\n",
       "      <td>29</td>\n",
       "      <td>221</td>\n",
       "    </tr>\n",
       "    <tr>\n",
       "      <th>2</th>\n",
       "      <td>2014</td>\n",
       "      <td>ACURA</td>\n",
       "      <td>ILX HYBRID</td>\n",
       "      <td>COMPACT</td>\n",
       "      <td>1.5</td>\n",
       "      <td>4</td>\n",
       "      <td>AV7</td>\n",
       "      <td>Z</td>\n",
       "      <td>6.0</td>\n",
       "      <td>5.8</td>\n",
       "      <td>5.9</td>\n",
       "      <td>48</td>\n",
       "      <td>136</td>\n",
       "    </tr>\n",
       "    <tr>\n",
       "      <th>3</th>\n",
       "      <td>2014</td>\n",
       "      <td>ACURA</td>\n",
       "      <td>MDX 4WD</td>\n",
       "      <td>SUV - SMALL</td>\n",
       "      <td>3.5</td>\n",
       "      <td>6</td>\n",
       "      <td>AS6</td>\n",
       "      <td>Z</td>\n",
       "      <td>12.7</td>\n",
       "      <td>9.1</td>\n",
       "      <td>11.1</td>\n",
       "      <td>25</td>\n",
       "      <td>255</td>\n",
       "    </tr>\n",
       "    <tr>\n",
       "      <th>4</th>\n",
       "      <td>2014</td>\n",
       "      <td>ACURA</td>\n",
       "      <td>RDX AWD</td>\n",
       "      <td>SUV - SMALL</td>\n",
       "      <td>3.5</td>\n",
       "      <td>6</td>\n",
       "      <td>AS6</td>\n",
       "      <td>Z</td>\n",
       "      <td>12.1</td>\n",
       "      <td>8.7</td>\n",
       "      <td>10.6</td>\n",
       "      <td>27</td>\n",
       "      <td>244</td>\n",
       "    </tr>\n",
       "  </tbody>\n",
       "</table>\n",
       "</div>"
      ],
      "text/plain": [
       "   MODELYEAR   MAKE       MODEL VEHICLECLASS  ENGINESIZE  CYLINDERS  \\\n",
       "0       2014  ACURA         ILX      COMPACT         2.0          4   \n",
       "1       2014  ACURA         ILX      COMPACT         2.4          4   \n",
       "2       2014  ACURA  ILX HYBRID      COMPACT         1.5          4   \n",
       "3       2014  ACURA     MDX 4WD  SUV - SMALL         3.5          6   \n",
       "4       2014  ACURA     RDX AWD  SUV - SMALL         3.5          6   \n",
       "\n",
       "  TRANSMISSION FUELTYPE  FUELCONSUMPTION_CITY  FUELCONSUMPTION_HWY  \\\n",
       "0          AS5        Z                   9.9                  6.7   \n",
       "1           M6        Z                  11.2                  7.7   \n",
       "2          AV7        Z                   6.0                  5.8   \n",
       "3          AS6        Z                  12.7                  9.1   \n",
       "4          AS6        Z                  12.1                  8.7   \n",
       "\n",
       "   FUELCONSUMPTION_COMB  FUELCONSUMPTION_COMB_MPG  CO2EMISSIONS  \n",
       "0                   8.5                        33           196  \n",
       "1                   9.6                        29           221  \n",
       "2                   5.9                        48           136  \n",
       "3                  11.1                        25           255  \n",
       "4                  10.6                        27           244  "
      ]
     },
     "execution_count": 4,
     "metadata": {},
     "output_type": "execute_result"
    }
   ],
   "source": [
    "data.head() #return you the first 5 rows values"
   ]
  },
  {
   "cell_type": "code",
   "execution_count": 5,
   "metadata": {},
   "outputs": [
    {
     "data": {
      "text/html": [
       "<div>\n",
       "<style scoped>\n",
       "    .dataframe tbody tr th:only-of-type {\n",
       "        vertical-align: middle;\n",
       "    }\n",
       "\n",
       "    .dataframe tbody tr th {\n",
       "        vertical-align: top;\n",
       "    }\n",
       "\n",
       "    .dataframe thead th {\n",
       "        text-align: right;\n",
       "    }\n",
       "</style>\n",
       "<table border=\"1\" class=\"dataframe\">\n",
       "  <thead>\n",
       "    <tr style=\"text-align: right;\">\n",
       "      <th></th>\n",
       "      <th>MODELYEAR</th>\n",
       "      <th>MAKE</th>\n",
       "      <th>MODEL</th>\n",
       "      <th>VEHICLECLASS</th>\n",
       "      <th>ENGINESIZE</th>\n",
       "      <th>CYLINDERS</th>\n",
       "      <th>TRANSMISSION</th>\n",
       "      <th>FUELTYPE</th>\n",
       "      <th>FUELCONSUMPTION_CITY</th>\n",
       "      <th>FUELCONSUMPTION_HWY</th>\n",
       "      <th>FUELCONSUMPTION_COMB</th>\n",
       "      <th>FUELCONSUMPTION_COMB_MPG</th>\n",
       "      <th>CO2EMISSIONS</th>\n",
       "    </tr>\n",
       "  </thead>\n",
       "  <tbody>\n",
       "    <tr>\n",
       "      <th>1062</th>\n",
       "      <td>2014</td>\n",
       "      <td>VOLVO</td>\n",
       "      <td>XC60 AWD</td>\n",
       "      <td>SUV - SMALL</td>\n",
       "      <td>3.0</td>\n",
       "      <td>6</td>\n",
       "      <td>AS6</td>\n",
       "      <td>X</td>\n",
       "      <td>13.4</td>\n",
       "      <td>9.8</td>\n",
       "      <td>11.8</td>\n",
       "      <td>24</td>\n",
       "      <td>271</td>\n",
       "    </tr>\n",
       "    <tr>\n",
       "      <th>1063</th>\n",
       "      <td>2014</td>\n",
       "      <td>VOLVO</td>\n",
       "      <td>XC60 AWD</td>\n",
       "      <td>SUV - SMALL</td>\n",
       "      <td>3.2</td>\n",
       "      <td>6</td>\n",
       "      <td>AS6</td>\n",
       "      <td>X</td>\n",
       "      <td>13.2</td>\n",
       "      <td>9.5</td>\n",
       "      <td>11.5</td>\n",
       "      <td>25</td>\n",
       "      <td>264</td>\n",
       "    </tr>\n",
       "    <tr>\n",
       "      <th>1064</th>\n",
       "      <td>2014</td>\n",
       "      <td>VOLVO</td>\n",
       "      <td>XC70 AWD</td>\n",
       "      <td>SUV - SMALL</td>\n",
       "      <td>3.0</td>\n",
       "      <td>6</td>\n",
       "      <td>AS6</td>\n",
       "      <td>X</td>\n",
       "      <td>13.4</td>\n",
       "      <td>9.8</td>\n",
       "      <td>11.8</td>\n",
       "      <td>24</td>\n",
       "      <td>271</td>\n",
       "    </tr>\n",
       "    <tr>\n",
       "      <th>1065</th>\n",
       "      <td>2014</td>\n",
       "      <td>VOLVO</td>\n",
       "      <td>XC70 AWD</td>\n",
       "      <td>SUV - SMALL</td>\n",
       "      <td>3.2</td>\n",
       "      <td>6</td>\n",
       "      <td>AS6</td>\n",
       "      <td>X</td>\n",
       "      <td>12.9</td>\n",
       "      <td>9.3</td>\n",
       "      <td>11.3</td>\n",
       "      <td>25</td>\n",
       "      <td>260</td>\n",
       "    </tr>\n",
       "    <tr>\n",
       "      <th>1066</th>\n",
       "      <td>2014</td>\n",
       "      <td>VOLVO</td>\n",
       "      <td>XC90 AWD</td>\n",
       "      <td>SUV - STANDARD</td>\n",
       "      <td>3.2</td>\n",
       "      <td>6</td>\n",
       "      <td>AS6</td>\n",
       "      <td>X</td>\n",
       "      <td>14.9</td>\n",
       "      <td>10.2</td>\n",
       "      <td>12.8</td>\n",
       "      <td>22</td>\n",
       "      <td>294</td>\n",
       "    </tr>\n",
       "  </tbody>\n",
       "</table>\n",
       "</div>"
      ],
      "text/plain": [
       "      MODELYEAR   MAKE     MODEL    VEHICLECLASS  ENGINESIZE  CYLINDERS  \\\n",
       "1062       2014  VOLVO  XC60 AWD     SUV - SMALL         3.0          6   \n",
       "1063       2014  VOLVO  XC60 AWD     SUV - SMALL         3.2          6   \n",
       "1064       2014  VOLVO  XC70 AWD     SUV - SMALL         3.0          6   \n",
       "1065       2014  VOLVO  XC70 AWD     SUV - SMALL         3.2          6   \n",
       "1066       2014  VOLVO  XC90 AWD  SUV - STANDARD         3.2          6   \n",
       "\n",
       "     TRANSMISSION FUELTYPE  FUELCONSUMPTION_CITY  FUELCONSUMPTION_HWY  \\\n",
       "1062          AS6        X                  13.4                  9.8   \n",
       "1063          AS6        X                  13.2                  9.5   \n",
       "1064          AS6        X                  13.4                  9.8   \n",
       "1065          AS6        X                  12.9                  9.3   \n",
       "1066          AS6        X                  14.9                 10.2   \n",
       "\n",
       "      FUELCONSUMPTION_COMB  FUELCONSUMPTION_COMB_MPG  CO2EMISSIONS  \n",
       "1062                  11.8                        24           271  \n",
       "1063                  11.5                        25           264  \n",
       "1064                  11.8                        24           271  \n",
       "1065                  11.3                        25           260  \n",
       "1066                  12.8                        22           294  "
      ]
     },
     "execution_count": 5,
     "metadata": {},
     "output_type": "execute_result"
    }
   ],
   "source": [
    "data.tail() #return you the last 5 rows values"
   ]
  },
  {
   "cell_type": "code",
   "execution_count": 6,
   "metadata": {},
   "outputs": [
    {
     "data": {
      "text/html": [
       "<div>\n",
       "<style scoped>\n",
       "    .dataframe tbody tr th:only-of-type {\n",
       "        vertical-align: middle;\n",
       "    }\n",
       "\n",
       "    .dataframe tbody tr th {\n",
       "        vertical-align: top;\n",
       "    }\n",
       "\n",
       "    .dataframe thead th {\n",
       "        text-align: right;\n",
       "    }\n",
       "</style>\n",
       "<table border=\"1\" class=\"dataframe\">\n",
       "  <thead>\n",
       "    <tr style=\"text-align: right;\">\n",
       "      <th></th>\n",
       "      <th>MODELYEAR</th>\n",
       "      <th>MAKE</th>\n",
       "      <th>MODEL</th>\n",
       "      <th>VEHICLECLASS</th>\n",
       "      <th>ENGINESIZE</th>\n",
       "      <th>CYLINDERS</th>\n",
       "      <th>TRANSMISSION</th>\n",
       "      <th>FUELTYPE</th>\n",
       "      <th>FUELCONSUMPTION_CITY</th>\n",
       "      <th>FUELCONSUMPTION_HWY</th>\n",
       "      <th>FUELCONSUMPTION_COMB</th>\n",
       "      <th>FUELCONSUMPTION_COMB_MPG</th>\n",
       "      <th>CO2EMISSIONS</th>\n",
       "    </tr>\n",
       "  </thead>\n",
       "  <tbody>\n",
       "    <tr>\n",
       "      <th>0</th>\n",
       "      <td>2014</td>\n",
       "      <td>ACURA</td>\n",
       "      <td>ILX</td>\n",
       "      <td>COMPACT</td>\n",
       "      <td>2.0</td>\n",
       "      <td>4</td>\n",
       "      <td>AS5</td>\n",
       "      <td>Z</td>\n",
       "      <td>9.9</td>\n",
       "      <td>6.7</td>\n",
       "      <td>8.5</td>\n",
       "      <td>33</td>\n",
       "      <td>196</td>\n",
       "    </tr>\n",
       "    <tr>\n",
       "      <th>1</th>\n",
       "      <td>2014</td>\n",
       "      <td>ACURA</td>\n",
       "      <td>ILX</td>\n",
       "      <td>COMPACT</td>\n",
       "      <td>2.4</td>\n",
       "      <td>4</td>\n",
       "      <td>M6</td>\n",
       "      <td>Z</td>\n",
       "      <td>11.2</td>\n",
       "      <td>7.7</td>\n",
       "      <td>9.6</td>\n",
       "      <td>29</td>\n",
       "      <td>221</td>\n",
       "    </tr>\n",
       "    <tr>\n",
       "      <th>2</th>\n",
       "      <td>2014</td>\n",
       "      <td>ACURA</td>\n",
       "      <td>ILX HYBRID</td>\n",
       "      <td>COMPACT</td>\n",
       "      <td>1.5</td>\n",
       "      <td>4</td>\n",
       "      <td>AV7</td>\n",
       "      <td>Z</td>\n",
       "      <td>6.0</td>\n",
       "      <td>5.8</td>\n",
       "      <td>5.9</td>\n",
       "      <td>48</td>\n",
       "      <td>136</td>\n",
       "    </tr>\n",
       "    <tr>\n",
       "      <th>3</th>\n",
       "      <td>2014</td>\n",
       "      <td>ACURA</td>\n",
       "      <td>MDX 4WD</td>\n",
       "      <td>SUV - SMALL</td>\n",
       "      <td>3.5</td>\n",
       "      <td>6</td>\n",
       "      <td>AS6</td>\n",
       "      <td>Z</td>\n",
       "      <td>12.7</td>\n",
       "      <td>9.1</td>\n",
       "      <td>11.1</td>\n",
       "      <td>25</td>\n",
       "      <td>255</td>\n",
       "    </tr>\n",
       "    <tr>\n",
       "      <th>4</th>\n",
       "      <td>2014</td>\n",
       "      <td>ACURA</td>\n",
       "      <td>RDX AWD</td>\n",
       "      <td>SUV - SMALL</td>\n",
       "      <td>3.5</td>\n",
       "      <td>6</td>\n",
       "      <td>AS6</td>\n",
       "      <td>Z</td>\n",
       "      <td>12.1</td>\n",
       "      <td>8.7</td>\n",
       "      <td>10.6</td>\n",
       "      <td>27</td>\n",
       "      <td>244</td>\n",
       "    </tr>\n",
       "    <tr>\n",
       "      <th>5</th>\n",
       "      <td>2014</td>\n",
       "      <td>ACURA</td>\n",
       "      <td>RLX</td>\n",
       "      <td>MID-SIZE</td>\n",
       "      <td>3.5</td>\n",
       "      <td>6</td>\n",
       "      <td>AS6</td>\n",
       "      <td>Z</td>\n",
       "      <td>11.9</td>\n",
       "      <td>7.7</td>\n",
       "      <td>10.0</td>\n",
       "      <td>28</td>\n",
       "      <td>230</td>\n",
       "    </tr>\n",
       "    <tr>\n",
       "      <th>6</th>\n",
       "      <td>2014</td>\n",
       "      <td>ACURA</td>\n",
       "      <td>TL</td>\n",
       "      <td>MID-SIZE</td>\n",
       "      <td>3.5</td>\n",
       "      <td>6</td>\n",
       "      <td>AS6</td>\n",
       "      <td>Z</td>\n",
       "      <td>11.8</td>\n",
       "      <td>8.1</td>\n",
       "      <td>10.1</td>\n",
       "      <td>28</td>\n",
       "      <td>232</td>\n",
       "    </tr>\n",
       "    <tr>\n",
       "      <th>7</th>\n",
       "      <td>2014</td>\n",
       "      <td>ACURA</td>\n",
       "      <td>TL AWD</td>\n",
       "      <td>MID-SIZE</td>\n",
       "      <td>3.7</td>\n",
       "      <td>6</td>\n",
       "      <td>AS6</td>\n",
       "      <td>Z</td>\n",
       "      <td>12.8</td>\n",
       "      <td>9.0</td>\n",
       "      <td>11.1</td>\n",
       "      <td>25</td>\n",
       "      <td>255</td>\n",
       "    </tr>\n",
       "  </tbody>\n",
       "</table>\n",
       "</div>"
      ],
      "text/plain": [
       "   MODELYEAR   MAKE       MODEL VEHICLECLASS  ENGINESIZE  CYLINDERS  \\\n",
       "0       2014  ACURA         ILX      COMPACT         2.0          4   \n",
       "1       2014  ACURA         ILX      COMPACT         2.4          4   \n",
       "2       2014  ACURA  ILX HYBRID      COMPACT         1.5          4   \n",
       "3       2014  ACURA     MDX 4WD  SUV - SMALL         3.5          6   \n",
       "4       2014  ACURA     RDX AWD  SUV - SMALL         3.5          6   \n",
       "5       2014  ACURA         RLX     MID-SIZE         3.5          6   \n",
       "6       2014  ACURA          TL     MID-SIZE         3.5          6   \n",
       "7       2014  ACURA      TL AWD     MID-SIZE         3.7          6   \n",
       "\n",
       "  TRANSMISSION FUELTYPE  FUELCONSUMPTION_CITY  FUELCONSUMPTION_HWY  \\\n",
       "0          AS5        Z                   9.9                  6.7   \n",
       "1           M6        Z                  11.2                  7.7   \n",
       "2          AV7        Z                   6.0                  5.8   \n",
       "3          AS6        Z                  12.7                  9.1   \n",
       "4          AS6        Z                  12.1                  8.7   \n",
       "5          AS6        Z                  11.9                  7.7   \n",
       "6          AS6        Z                  11.8                  8.1   \n",
       "7          AS6        Z                  12.8                  9.0   \n",
       "\n",
       "   FUELCONSUMPTION_COMB  FUELCONSUMPTION_COMB_MPG  CO2EMISSIONS  \n",
       "0                   8.5                        33           196  \n",
       "1                   9.6                        29           221  \n",
       "2                   5.9                        48           136  \n",
       "3                  11.1                        25           255  \n",
       "4                  10.6                        27           244  \n",
       "5                  10.0                        28           230  \n",
       "6                  10.1                        28           232  \n",
       "7                  11.1                        25           255  "
      ]
     },
     "execution_count": 6,
     "metadata": {},
     "output_type": "execute_result"
    }
   ],
   "source": [
    "data.head(8) #return you the top 8 rows values"
   ]
  },
  {
   "cell_type": "code",
   "execution_count": 7,
   "metadata": {},
   "outputs": [],
   "source": [
    "data.drop('MODEL',axis=1,inplace=True)  "
   ]
  },
  {
   "cell_type": "code",
   "execution_count": 8,
   "metadata": {},
   "outputs": [
    {
     "data": {
      "text/plain": [
       "Index(['MODELYEAR', 'MAKE', 'VEHICLECLASS', 'ENGINESIZE', 'CYLINDERS',\n",
       "       'TRANSMISSION', 'FUELTYPE', 'FUELCONSUMPTION_CITY',\n",
       "       'FUELCONSUMPTION_HWY', 'FUELCONSUMPTION_COMB',\n",
       "       'FUELCONSUMPTION_COMB_MPG', 'CO2EMISSIONS'],\n",
       "      dtype='object')"
      ]
     },
     "execution_count": 8,
     "metadata": {},
     "output_type": "execute_result"
    }
   ],
   "source": [
    "data.columns #return all the column names"
   ]
  },
  {
   "cell_type": "markdown",
   "metadata": {},
   "source": [
    "### Info of the data"
   ]
  },
  {
   "cell_type": "code",
   "execution_count": 9,
   "metadata": {},
   "outputs": [
    {
     "name": "stdout",
     "output_type": "stream",
     "text": [
      "<class 'pandas.core.frame.DataFrame'>\n",
      "RangeIndex: 1067 entries, 0 to 1066\n",
      "Data columns (total 12 columns):\n",
      " #   Column                    Non-Null Count  Dtype  \n",
      "---  ------                    --------------  -----  \n",
      " 0   MODELYEAR                 1067 non-null   int64  \n",
      " 1   MAKE                      1067 non-null   object \n",
      " 2   VEHICLECLASS              1067 non-null   object \n",
      " 3   ENGINESIZE                1067 non-null   float64\n",
      " 4   CYLINDERS                 1067 non-null   int64  \n",
      " 5   TRANSMISSION              1067 non-null   object \n",
      " 6   FUELTYPE                  1067 non-null   object \n",
      " 7   FUELCONSUMPTION_CITY      1067 non-null   float64\n",
      " 8   FUELCONSUMPTION_HWY       1067 non-null   float64\n",
      " 9   FUELCONSUMPTION_COMB      1067 non-null   float64\n",
      " 10  FUELCONSUMPTION_COMB_MPG  1067 non-null   int64  \n",
      " 11  CO2EMISSIONS              1067 non-null   int64  \n",
      "dtypes: float64(4), int64(4), object(4)\n",
      "memory usage: 100.2+ KB\n"
     ]
    }
   ],
   "source": [
    "data.info() #info will give you a summary of dataset"
   ]
  },
  {
   "cell_type": "code",
   "execution_count": 10,
   "metadata": {},
   "outputs": [
    {
     "data": {
      "text/html": [
       "<div>\n",
       "<style scoped>\n",
       "    .dataframe tbody tr th:only-of-type {\n",
       "        vertical-align: middle;\n",
       "    }\n",
       "\n",
       "    .dataframe tbody tr th {\n",
       "        vertical-align: top;\n",
       "    }\n",
       "\n",
       "    .dataframe thead th {\n",
       "        text-align: right;\n",
       "    }\n",
       "</style>\n",
       "<table border=\"1\" class=\"dataframe\">\n",
       "  <thead>\n",
       "    <tr style=\"text-align: right;\">\n",
       "      <th></th>\n",
       "      <th>MODELYEAR</th>\n",
       "      <th>ENGINESIZE</th>\n",
       "      <th>CYLINDERS</th>\n",
       "      <th>FUELCONSUMPTION_CITY</th>\n",
       "      <th>FUELCONSUMPTION_HWY</th>\n",
       "      <th>FUELCONSUMPTION_COMB</th>\n",
       "      <th>FUELCONSUMPTION_COMB_MPG</th>\n",
       "      <th>CO2EMISSIONS</th>\n",
       "    </tr>\n",
       "  </thead>\n",
       "  <tbody>\n",
       "    <tr>\n",
       "      <th>count</th>\n",
       "      <td>1067.0</td>\n",
       "      <td>1067.000000</td>\n",
       "      <td>1067.000000</td>\n",
       "      <td>1067.000000</td>\n",
       "      <td>1067.000000</td>\n",
       "      <td>1067.000000</td>\n",
       "      <td>1067.000000</td>\n",
       "      <td>1067.000000</td>\n",
       "    </tr>\n",
       "    <tr>\n",
       "      <th>mean</th>\n",
       "      <td>2014.0</td>\n",
       "      <td>3.346298</td>\n",
       "      <td>5.794752</td>\n",
       "      <td>13.296532</td>\n",
       "      <td>9.474602</td>\n",
       "      <td>11.580881</td>\n",
       "      <td>26.441425</td>\n",
       "      <td>256.228679</td>\n",
       "    </tr>\n",
       "    <tr>\n",
       "      <th>std</th>\n",
       "      <td>0.0</td>\n",
       "      <td>1.415895</td>\n",
       "      <td>1.797447</td>\n",
       "      <td>4.101253</td>\n",
       "      <td>2.794510</td>\n",
       "      <td>3.485595</td>\n",
       "      <td>7.468702</td>\n",
       "      <td>63.372304</td>\n",
       "    </tr>\n",
       "    <tr>\n",
       "      <th>min</th>\n",
       "      <td>2014.0</td>\n",
       "      <td>1.000000</td>\n",
       "      <td>3.000000</td>\n",
       "      <td>4.600000</td>\n",
       "      <td>4.900000</td>\n",
       "      <td>4.700000</td>\n",
       "      <td>11.000000</td>\n",
       "      <td>108.000000</td>\n",
       "    </tr>\n",
       "    <tr>\n",
       "      <th>25%</th>\n",
       "      <td>2014.0</td>\n",
       "      <td>2.000000</td>\n",
       "      <td>4.000000</td>\n",
       "      <td>10.250000</td>\n",
       "      <td>7.500000</td>\n",
       "      <td>9.000000</td>\n",
       "      <td>21.000000</td>\n",
       "      <td>207.000000</td>\n",
       "    </tr>\n",
       "    <tr>\n",
       "      <th>50%</th>\n",
       "      <td>2014.0</td>\n",
       "      <td>3.400000</td>\n",
       "      <td>6.000000</td>\n",
       "      <td>12.600000</td>\n",
       "      <td>8.800000</td>\n",
       "      <td>10.900000</td>\n",
       "      <td>26.000000</td>\n",
       "      <td>251.000000</td>\n",
       "    </tr>\n",
       "    <tr>\n",
       "      <th>75%</th>\n",
       "      <td>2014.0</td>\n",
       "      <td>4.300000</td>\n",
       "      <td>8.000000</td>\n",
       "      <td>15.550000</td>\n",
       "      <td>10.850000</td>\n",
       "      <td>13.350000</td>\n",
       "      <td>31.000000</td>\n",
       "      <td>294.000000</td>\n",
       "    </tr>\n",
       "    <tr>\n",
       "      <th>max</th>\n",
       "      <td>2014.0</td>\n",
       "      <td>8.400000</td>\n",
       "      <td>12.000000</td>\n",
       "      <td>30.200000</td>\n",
       "      <td>20.500000</td>\n",
       "      <td>25.800000</td>\n",
       "      <td>60.000000</td>\n",
       "      <td>488.000000</td>\n",
       "    </tr>\n",
       "  </tbody>\n",
       "</table>\n",
       "</div>"
      ],
      "text/plain": [
       "       MODELYEAR   ENGINESIZE    CYLINDERS  FUELCONSUMPTION_CITY  \\\n",
       "count     1067.0  1067.000000  1067.000000           1067.000000   \n",
       "mean      2014.0     3.346298     5.794752             13.296532   \n",
       "std          0.0     1.415895     1.797447              4.101253   \n",
       "min       2014.0     1.000000     3.000000              4.600000   \n",
       "25%       2014.0     2.000000     4.000000             10.250000   \n",
       "50%       2014.0     3.400000     6.000000             12.600000   \n",
       "75%       2014.0     4.300000     8.000000             15.550000   \n",
       "max       2014.0     8.400000    12.000000             30.200000   \n",
       "\n",
       "       FUELCONSUMPTION_HWY  FUELCONSUMPTION_COMB  FUELCONSUMPTION_COMB_MPG  \\\n",
       "count          1067.000000           1067.000000               1067.000000   \n",
       "mean              9.474602             11.580881                 26.441425   \n",
       "std               2.794510              3.485595                  7.468702   \n",
       "min               4.900000              4.700000                 11.000000   \n",
       "25%               7.500000              9.000000                 21.000000   \n",
       "50%               8.800000             10.900000                 26.000000   \n",
       "75%              10.850000             13.350000                 31.000000   \n",
       "max              20.500000             25.800000                 60.000000   \n",
       "\n",
       "       CO2EMISSIONS  \n",
       "count   1067.000000  \n",
       "mean     256.228679  \n",
       "std       63.372304  \n",
       "min      108.000000  \n",
       "25%      207.000000  \n",
       "50%      251.000000  \n",
       "75%      294.000000  \n",
       "max      488.000000  "
      ]
     },
     "execution_count": 10,
     "metadata": {},
     "output_type": "execute_result"
    }
   ],
   "source": [
    "data.describe()  # returns important values for continous column data"
   ]
  },
  {
   "cell_type": "code",
   "execution_count": 11,
   "metadata": {},
   "outputs": [
    {
     "data": {
      "text/plain": [
       "(array([dtype('int64'), dtype('float64'), dtype('O')], dtype=object),\n",
       " array([4, 4, 4], dtype=int64))"
      ]
     },
     "execution_count": 11,
     "metadata": {},
     "output_type": "execute_result"
    }
   ],
   "source": [
    "np.unique(data.dtypes,return_counts=True)"
   ]
  },
  {
   "cell_type": "markdown",
   "metadata": {},
   "source": [
    "## Categoical Columns"
   ]
  },
  {
   "cell_type": "code",
   "execution_count": 12,
   "metadata": {},
   "outputs": [
    {
     "data": {
      "text/plain": [
       "array(['MAKE', 'VEHICLECLASS', 'TRANSMISSION', 'FUELTYPE'], dtype=object)"
      ]
     },
     "execution_count": 12,
     "metadata": {},
     "output_type": "execute_result"
    }
   ],
   "source": [
    "cat=data.dtypes[data.dtypes=='O'].index.values\n",
    "cat"
   ]
  },
  {
   "cell_type": "markdown",
   "metadata": {},
   "source": [
    "### Analysing the categorical columns"
   ]
  },
  {
   "cell_type": "code",
   "execution_count": 13,
   "metadata": {},
   "outputs": [
    {
     "name": "stdout",
     "output_type": "stream",
     "text": [
      "Column : MAKE\n",
      "count of classes :  39\n",
      "Counter({'FORD': 90, 'CHEVROLET': 86, 'BMW': 64, 'MERCEDES-BENZ': 59, 'AUDI': 49, 'GMC': 49, 'TOYOTA': 49, 'PORSCHE': 44, 'VOLKSWAGEN': 42, 'DODGE': 39, 'MINI': 36, 'KIA': 33, 'NISSAN': 33, 'CADILLAC': 32, 'JEEP': 31, 'MAZDA': 27, 'HYUNDAI': 24, 'SUBARU': 23, 'JAGUAR': 22, 'LEXUS': 22, 'HONDA': 21, 'INFINITI': 21, 'CHRYSLER': 19, 'LAND ROVER': 19, 'BUICK': 16, 'MITSUBISHI': 16, 'RAM': 13, 'ACURA': 12, 'LINCOLN': 11, 'VOLVO': 11, 'FIAT': 10, 'SCION': 9, 'BENTLEY': 8, 'ASTON MARTIN': 7, 'ROLLS-ROYCE': 7, 'MASERATI': 6, 'LAMBORGHINI': 3, 'SMART': 2, 'SRT': 2})\n",
      "************************************************************************************************************************\n",
      "Column : VEHICLECLASS\n",
      "count of classes :  16\n",
      "Counter({'MID-SIZE': 178, 'COMPACT': 172, 'SUV - SMALL': 154, 'SUV - STANDARD': 110, 'FULL-SIZE': 86, 'TWO-SEATER': 71, 'SUBCOMPACT': 65, 'PICKUP TRUCK - STANDARD': 62, 'MINICOMPACT': 47, 'STATION WAGON - SMALL': 36, 'VAN - PASSENGER': 25, 'VAN - CARGO': 22, 'MINIVAN': 14, 'PICKUP TRUCK - SMALL': 12, 'SPECIAL PURPOSE VEHICLE': 7, 'STATION WAGON - MID-SIZE': 6})\n",
      "************************************************************************************************************************\n",
      "Column : TRANSMISSION\n",
      "count of classes :  22\n",
      "Counter({'A6': 222, 'AS6': 189, 'M6': 141, 'A8': 87, 'AS8': 80, 'AS7': 76, 'M5': 48, 'AV': 46, 'A4': 45, 'AM7': 34, 'A5': 30, 'A7': 12, 'AV6': 11, 'AS5': 10, 'M7': 9, 'A9': 8, 'AM6': 6, 'AV7': 5, 'AV8': 3, 'AS9': 2, 'AM5': 2, 'AS4': 1})\n",
      "************************************************************************************************************************\n",
      "Column : FUELTYPE\n",
      "count of classes :  4\n",
      "Counter({'X': 514, 'Z': 434, 'E': 92, 'D': 27})\n",
      "************************************************************************************************************************\n"
     ]
    }
   ],
   "source": [
    "for i in cat:\n",
    "    print(\"Column :\",i)\n",
    "    print('count of classes : ',data[i].nunique())\n",
    "    print(c(data[i]))\n",
    "    print('*'*120)"
   ]
  },
  {
   "cell_type": "code",
   "execution_count": 14,
   "metadata": {},
   "outputs": [
    {
     "data": {
      "text/plain": [
       "Counter({'Automatic with Select Shift': 11,\n",
       "         'Manual': 189,\n",
       "         'AV7': 5,\n",
       "         'AS6': 189,\n",
       "         'A6': 222,\n",
       "         'AM7': 34,\n",
       "         'AV8': 3,\n",
       "         'AS8': 80,\n",
       "         'A7': 12,\n",
       "         'A8': 87,\n",
       "         'M7': 9,\n",
       "         'Automatic': 75,\n",
       "         'Continuously Variable': 46,\n",
       "         'AM6': 6,\n",
       "         'AS7': 76,\n",
       "         'A9': 8,\n",
       "         'AS9': 2,\n",
       "         'AV6': 11,\n",
       "         'AM5': 2})"
      ]
     },
     "execution_count": 14,
     "metadata": {},
     "output_type": "execute_result"
    }
   ],
   "source": [
    "#here we are combininng the similar types of class into one class using where is for find\n",
    "#and isin is for used for checking purpose\n",
    "data[\"TRANSMISSION\"] = np.where(data[\"TRANSMISSION\"].\n",
    "                            isin([\"A4\", \"A5\", \"A3\"]), \"Automatic\", data[\"TRANSMISSION\"])\n",
    "data[\"TRANSMISSION\"] = np.where(data[\"TRANSMISSION\"].isin([\"M5\", \"M6\"]), \"Manual\", data[\"TRANSMISSION\"])\n",
    "data[\"TRANSMISSION\"] = np.where(data[\"TRANSMISSION\"].\n",
    "                        isin([\"AS4\", \"AS5\"]), \"Automatic with Select Shift\", data[\"TRANSMISSION\"])\n",
    "data[\"TRANSMISSION\"] = np.where(data[\"TRANSMISSION\"].\n",
    "                isin([\"AV\"]), \"Continuously Variable\", data[\"TRANSMISSION\"])\n",
    "c(data['TRANSMISSION'])"
   ]
  },
  {
   "cell_type": "code",
   "execution_count": 15,
   "metadata": {},
   "outputs": [
    {
     "data": {
      "text/plain": [
       "Counter({'Premium Gasoline': 434,\n",
       "         'Diesel': 27,\n",
       "         'Regular Gasoline': 514,\n",
       "         'Ethanol(E85)': 92})"
      ]
     },
     "execution_count": 15,
     "metadata": {},
     "output_type": "execute_result"
    }
   ],
   "source": [
    "data[\"FUELTYPE\"] = np.where(data[\"FUELTYPE\"]==\"Z\", \"Premium Gasoline\", data[\"FUELTYPE\"])\n",
    "data[\"FUELTYPE\"] = np.where(data[\"FUELTYPE\"]==\"X\", \"Regular Gasoline\", data[\"FUELTYPE\"])\n",
    "data[\"FUELTYPE\"] = np.where(data[\"FUELTYPE\"]==\"D\", \"Diesel\", data[\"FUELTYPE\"])\n",
    "data[\"FUELTYPE\"] = np.where(data[\"FUELTYPE\"]==\"E\", \"Ethanol(E85)\", data[\"FUELTYPE\"])\n",
    "data[\"FUELTYPE\"] = np.where(data[\"FUELTYPE\"]==\"N\", \"Natural Gas\", data[\"FUELTYPE\"])\n",
    "c(data[\"FUELTYPE\"])"
   ]
  },
  {
   "cell_type": "markdown",
   "metadata": {},
   "source": [
    "## Numerical Columns"
   ]
  },
  {
   "cell_type": "code",
   "execution_count": 16,
   "metadata": {},
   "outputs": [
    {
     "data": {
      "text/plain": [
       "array(['MODELYEAR', 'ENGINESIZE', 'CYLINDERS', 'FUELCONSUMPTION_CITY',\n",
       "       'FUELCONSUMPTION_HWY', 'FUELCONSUMPTION_COMB',\n",
       "       'FUELCONSUMPTION_COMB_MPG', 'CO2EMISSIONS'], dtype=object)"
      ]
     },
     "execution_count": 16,
     "metadata": {},
     "output_type": "execute_result"
    }
   ],
   "source": [
    "data.dtypes[data.dtypes!='O'].index.values"
   ]
  },
  {
   "cell_type": "markdown",
   "metadata": {},
   "source": [
    "## Checking Null values"
   ]
  },
  {
   "cell_type": "code",
   "execution_count": 17,
   "metadata": {},
   "outputs": [
    {
     "data": {
      "text/plain": [
       "MODELYEAR                   False\n",
       "MAKE                        False\n",
       "VEHICLECLASS                False\n",
       "ENGINESIZE                  False\n",
       "CYLINDERS                   False\n",
       "TRANSMISSION                False\n",
       "FUELTYPE                    False\n",
       "FUELCONSUMPTION_CITY        False\n",
       "FUELCONSUMPTION_HWY         False\n",
       "FUELCONSUMPTION_COMB        False\n",
       "FUELCONSUMPTION_COMB_MPG    False\n",
       "CO2EMISSIONS                False\n",
       "dtype: bool"
      ]
     },
     "execution_count": 17,
     "metadata": {},
     "output_type": "execute_result"
    }
   ],
   "source": [
    "data.isnull().any()#it will return true if any columns is having null values"
   ]
  },
  {
   "cell_type": "code",
   "execution_count": 18,
   "metadata": {},
   "outputs": [
    {
     "data": {
      "text/plain": [
       "MODELYEAR                   0\n",
       "MAKE                        0\n",
       "VEHICLECLASS                0\n",
       "ENGINESIZE                  0\n",
       "CYLINDERS                   0\n",
       "TRANSMISSION                0\n",
       "FUELTYPE                    0\n",
       "FUELCONSUMPTION_CITY        0\n",
       "FUELCONSUMPTION_HWY         0\n",
       "FUELCONSUMPTION_COMB        0\n",
       "FUELCONSUMPTION_COMB_MPG    0\n",
       "CO2EMISSIONS                0\n",
       "dtype: int64"
      ]
     },
     "execution_count": 18,
     "metadata": {},
     "output_type": "execute_result"
    }
   ],
   "source": [
    "data.isnull().sum() #used for finding the null values"
   ]
  },
  {
   "cell_type": "code",
   "execution_count": 19,
   "metadata": {},
   "outputs": [
    {
     "data": {
      "text/plain": [
       "<matplotlib.axes._subplots.AxesSubplot at 0x208cb173430>"
      ]
     },
     "execution_count": 19,
     "metadata": {},
     "output_type": "execute_result"
    },
    {
     "data": {
      "image/png": "[encoded data removed]",
      "text/plain": [
       "<Figure size 432x288 with 1 Axes>"
      ]
     },
     "metadata": {
      "needs_background": "light"
     },
     "output_type": "display_data"
    }
   ],
   "source": [
    "sns.heatmap(data.isnull(),cbar=False)"
   ]
  },
  {
   "cell_type": "code",
   "execution_count": 20,
   "metadata": {},
   "outputs": [
    {
     "data": {
      "image/png": "[encoded data removed]",
      "text/plain": [
       "<Figure size 1728x720 with 3 Axes>"
      ]
     },
     "metadata": {
      "needs_background": "light"
     },
     "output_type": "display_data"
    }
   ],
   "source": [
    "msno.bar(data)\n",
    "plt.show()"
   ]
  },
  {
   "cell_type": "markdown",
   "metadata": {},
   "source": [
    "## Labeling the Categorical Columns"
   ]
  },
  {
   "cell_type": "code",
   "execution_count": 21,
   "metadata": {},
   "outputs": [
    {
     "name": "stdout",
     "output_type": "stream",
     "text": [
      "LABEL ENCODING OF: MAKE\n",
      "Counter({'FORD': 90, 'CHEVROLET': 86, 'BMW': 64, 'MERCEDES-BENZ': 59, 'AUDI': 49, 'GMC': 49, 'TOYOTA': 49, 'PORSCHE': 44, 'VOLKSWAGEN': 42, 'DODGE': 39, 'MINI': 36, 'KIA': 33, 'NISSAN': 33, 'CADILLAC': 32, 'JEEP': 31, 'MAZDA': 27, 'HYUNDAI': 24, 'SUBARU': 23, 'JAGUAR': 22, 'LEXUS': 22, 'HONDA': 21, 'INFINITI': 21, 'CHRYSLER': 19, 'LAND ROVER': 19, 'BUICK': 16, 'MITSUBISHI': 16, 'RAM': 13, 'ACURA': 12, 'LINCOLN': 11, 'VOLVO': 11, 'FIAT': 10, 'SCION': 9, 'BENTLEY': 8, 'ASTON MARTIN': 7, 'ROLLS-ROYCE': 7, 'MASERATI': 6, 'LAMBORGHINI': 3, 'SMART': 2, 'SRT': 2})\n",
      "Counter({11: 90, 7: 86, 4: 64, 25: 59, 2: 49, 12: 49, 36: 49, 29: 44, 37: 42, 9: 39, 26: 36, 18: 33, 28: 33, 6: 32, 17: 31, 24: 27, 14: 24, 35: 23, 16: 22, 21: 22, 13: 21, 15: 21, 8: 19, 20: 19, 5: 16, 27: 16, 30: 13, 0: 12, 22: 11, 38: 11, 10: 10, 32: 9, 3: 8, 1: 7, 31: 7, 23: 6, 19: 3, 33: 2, 34: 2})\n",
      "****************************************************************************************************\n",
      "LABEL ENCODING OF: VEHICLECLASS\n",
      "Counter({'MID-SIZE': 178, 'COMPACT': 172, 'SUV - SMALL': 154, 'SUV - STANDARD': 110, 'FULL-SIZE': 86, 'TWO-SEATER': 71, 'SUBCOMPACT': 65, 'PICKUP TRUCK - STANDARD': 62, 'MINICOMPACT': 47, 'STATION WAGON - SMALL': 36, 'VAN - PASSENGER': 25, 'VAN - CARGO': 22, 'MINIVAN': 14, 'PICKUP TRUCK - SMALL': 12, 'SPECIAL PURPOSE VEHICLE': 7, 'STATION WAGON - MID-SIZE': 6})\n",
      "Counter({2: 178, 0: 172, 11: 154, 12: 110, 1: 86, 13: 71, 10: 65, 6: 62, 3: 47, 9: 36, 15: 25, 14: 22, 4: 14, 5: 12, 7: 7, 8: 6})\n",
      "****************************************************************************************************\n",
      "LABEL ENCODING OF: TRANSMISSION\n",
      "Counter({'A6': 222, 'Manual': 189, 'AS6': 189, 'A8': 87, 'AS8': 80, 'AS7': 76, 'Automatic': 75, 'Continuously Variable': 46, 'AM7': 34, 'A7': 12, 'Automatic with Select Shift': 11, 'AV6': 11, 'M7': 9, 'A9': 8, 'AM6': 6, 'AV7': 5, 'AV8': 3, 'AS9': 2, 'AM5': 2})\n",
      "Counter({0: 222, 18: 189, 7: 189, 2: 87, 9: 80, 8: 76, 14: 75, 16: 46, 6: 34, 1: 12, 15: 11, 11: 11, 17: 9, 3: 8, 5: 6, 12: 5, 13: 3, 10: 2, 4: 2})\n",
      "****************************************************************************************************\n",
      "LABEL ENCODING OF: FUELTYPE\n",
      "Counter({'Regular Gasoline': 514, 'Premium Gasoline': 434, 'Ethanol(E85)': 92, 'Diesel': 27})\n",
      "Counter({3: 514, 2: 434, 1: 92, 0: 27})\n",
      "****************************************************************************************************\n"
     ]
    }
   ],
   "source": [
    "data1=data.copy()\n",
    "from sklearn.preprocessing import LabelEncoder #imorting the LabelEncoding from sklearn\n",
    "x='*'\n",
    "for i in cat:#looping through all the categorical columns\n",
    "    print(\"LABEL ENCODING OF:\",i)\n",
    "    LE = LabelEncoder()#creating an object of LabelEncoder\n",
    "    print(c(data[i])) #getting the classes values before transformation\n",
    "    data[i] = LE.fit_transform(data[i]) # trannsforming our text classes to numerical values\n",
    "    print(c(data[i])) #getting the classes values after transformation\n",
    "    print(x*100)"
   ]
  },
  {
   "cell_type": "code",
   "execution_count": 22,
   "metadata": {},
   "outputs": [
    {
     "data": {
      "text/html": [
       "<div>\n",
       "<style scoped>\n",
       "    .dataframe tbody tr th:only-of-type {\n",
       "        vertical-align: middle;\n",
       "    }\n",
       "\n",
       "    .dataframe tbody tr th {\n",
       "        vertical-align: top;\n",
       "    }\n",
       "\n",
       "    .dataframe thead th {\n",
       "        text-align: right;\n",
       "    }\n",
       "</style>\n",
       "<table border=\"1\" class=\"dataframe\">\n",
       "  <thead>\n",
       "    <tr style=\"text-align: right;\">\n",
       "      <th></th>\n",
       "      <th>MODELYEAR</th>\n",
       "      <th>MAKE</th>\n",
       "      <th>VEHICLECLASS</th>\n",
       "      <th>ENGINESIZE</th>\n",
       "      <th>CYLINDERS</th>\n",
       "      <th>TRANSMISSION</th>\n",
       "      <th>FUELTYPE</th>\n",
       "      <th>FUELCONSUMPTION_CITY</th>\n",
       "      <th>FUELCONSUMPTION_HWY</th>\n",
       "      <th>FUELCONSUMPTION_COMB</th>\n",
       "      <th>FUELCONSUMPTION_COMB_MPG</th>\n",
       "      <th>CO2EMISSIONS</th>\n",
       "    </tr>\n",
       "  </thead>\n",
       "  <tbody>\n",
       "    <tr>\n",
       "      <th>0</th>\n",
       "      <td>2014</td>\n",
       "      <td>0</td>\n",
       "      <td>0</td>\n",
       "      <td>2.0</td>\n",
       "      <td>4</td>\n",
       "      <td>15</td>\n",
       "      <td>2</td>\n",
       "      <td>9.9</td>\n",
       "      <td>6.7</td>\n",
       "      <td>8.5</td>\n",
       "      <td>33</td>\n",
       "      <td>196</td>\n",
       "    </tr>\n",
       "    <tr>\n",
       "      <th>1</th>\n",
       "      <td>2014</td>\n",
       "      <td>0</td>\n",
       "      <td>0</td>\n",
       "      <td>2.4</td>\n",
       "      <td>4</td>\n",
       "      <td>18</td>\n",
       "      <td>2</td>\n",
       "      <td>11.2</td>\n",
       "      <td>7.7</td>\n",
       "      <td>9.6</td>\n",
       "      <td>29</td>\n",
       "      <td>221</td>\n",
       "    </tr>\n",
       "    <tr>\n",
       "      <th>2</th>\n",
       "      <td>2014</td>\n",
       "      <td>0</td>\n",
       "      <td>0</td>\n",
       "      <td>1.5</td>\n",
       "      <td>4</td>\n",
       "      <td>12</td>\n",
       "      <td>2</td>\n",
       "      <td>6.0</td>\n",
       "      <td>5.8</td>\n",
       "      <td>5.9</td>\n",
       "      <td>48</td>\n",
       "      <td>136</td>\n",
       "    </tr>\n",
       "    <tr>\n",
       "      <th>3</th>\n",
       "      <td>2014</td>\n",
       "      <td>0</td>\n",
       "      <td>11</td>\n",
       "      <td>3.5</td>\n",
       "      <td>6</td>\n",
       "      <td>7</td>\n",
       "      <td>2</td>\n",
       "      <td>12.7</td>\n",
       "      <td>9.1</td>\n",
       "      <td>11.1</td>\n",
       "      <td>25</td>\n",
       "      <td>255</td>\n",
       "    </tr>\n",
       "    <tr>\n",
       "      <th>4</th>\n",
       "      <td>2014</td>\n",
       "      <td>0</td>\n",
       "      <td>11</td>\n",
       "      <td>3.5</td>\n",
       "      <td>6</td>\n",
       "      <td>7</td>\n",
       "      <td>2</td>\n",
       "      <td>12.1</td>\n",
       "      <td>8.7</td>\n",
       "      <td>10.6</td>\n",
       "      <td>27</td>\n",
       "      <td>244</td>\n",
       "    </tr>\n",
       "    <tr>\n",
       "      <th>...</th>\n",
       "      <td>...</td>\n",
       "      <td>...</td>\n",
       "      <td>...</td>\n",
       "      <td>...</td>\n",
       "      <td>...</td>\n",
       "      <td>...</td>\n",
       "      <td>...</td>\n",
       "      <td>...</td>\n",
       "      <td>...</td>\n",
       "      <td>...</td>\n",
       "      <td>...</td>\n",
       "      <td>...</td>\n",
       "    </tr>\n",
       "    <tr>\n",
       "      <th>1062</th>\n",
       "      <td>2014</td>\n",
       "      <td>38</td>\n",
       "      <td>11</td>\n",
       "      <td>3.0</td>\n",
       "      <td>6</td>\n",
       "      <td>7</td>\n",
       "      <td>3</td>\n",
       "      <td>13.4</td>\n",
       "      <td>9.8</td>\n",
       "      <td>11.8</td>\n",
       "      <td>24</td>\n",
       "      <td>271</td>\n",
       "    </tr>\n",
       "    <tr>\n",
       "      <th>1063</th>\n",
       "      <td>2014</td>\n",
       "      <td>38</td>\n",
       "      <td>11</td>\n",
       "      <td>3.2</td>\n",
       "      <td>6</td>\n",
       "      <td>7</td>\n",
       "      <td>3</td>\n",
       "      <td>13.2</td>\n",
       "      <td>9.5</td>\n",
       "      <td>11.5</td>\n",
       "      <td>25</td>\n",
       "      <td>264</td>\n",
       "    </tr>\n",
       "    <tr>\n",
       "      <th>1064</th>\n",
       "      <td>2014</td>\n",
       "      <td>38</td>\n",
       "      <td>11</td>\n",
       "      <td>3.0</td>\n",
       "      <td>6</td>\n",
       "      <td>7</td>\n",
       "      <td>3</td>\n",
       "      <td>13.4</td>\n",
       "      <td>9.8</td>\n",
       "      <td>11.8</td>\n",
       "      <td>24</td>\n",
       "      <td>271</td>\n",
       "    </tr>\n",
       "    <tr>\n",
       "      <th>1065</th>\n",
       "      <td>2014</td>\n",
       "      <td>38</td>\n",
       "      <td>11</td>\n",
       "      <td>3.2</td>\n",
       "      <td>6</td>\n",
       "      <td>7</td>\n",
       "      <td>3</td>\n",
       "      <td>12.9</td>\n",
       "      <td>9.3</td>\n",
       "      <td>11.3</td>\n",
       "      <td>25</td>\n",
       "      <td>260</td>\n",
       "    </tr>\n",
       "    <tr>\n",
       "      <th>1066</th>\n",
       "      <td>2014</td>\n",
       "      <td>38</td>\n",
       "      <td>12</td>\n",
       "      <td>3.2</td>\n",
       "      <td>6</td>\n",
       "      <td>7</td>\n",
       "      <td>3</td>\n",
       "      <td>14.9</td>\n",
       "      <td>10.2</td>\n",
       "      <td>12.8</td>\n",
       "      <td>22</td>\n",
       "      <td>294</td>\n",
       "    </tr>\n",
       "  </tbody>\n",
       "</table>\n",
       "<p>1067 rows × 12 columns</p>\n",
       "</div>"
      ],
      "text/plain": [
       "      MODELYEAR  MAKE  VEHICLECLASS  ENGINESIZE  CYLINDERS  TRANSMISSION  \\\n",
       "0          2014     0             0         2.0          4            15   \n",
       "1          2014     0             0         2.4          4            18   \n",
       "2          2014     0             0         1.5          4            12   \n",
       "3          2014     0            11         3.5          6             7   \n",
       "4          2014     0            11         3.5          6             7   \n",
       "...         ...   ...           ...         ...        ...           ...   \n",
       "1062       2014    38            11         3.0          6             7   \n",
       "1063       2014    38            11         3.2          6             7   \n",
       "1064       2014    38            11         3.0          6             7   \n",
       "1065       2014    38            11         3.2          6             7   \n",
       "1066       2014    38            12         3.2          6             7   \n",
       "\n",
       "      FUELTYPE  FUELCONSUMPTION_CITY  FUELCONSUMPTION_HWY  \\\n",
       "0            2                   9.9                  6.7   \n",
       "1            2                  11.2                  7.7   \n",
       "2            2                   6.0                  5.8   \n",
       "3            2                  12.7                  9.1   \n",
       "4            2                  12.1                  8.7   \n",
       "...        ...                   ...                  ...   \n",
       "1062         3                  13.4                  9.8   \n",
       "1063         3                  13.2                  9.5   \n",
       "1064         3                  13.4                  9.8   \n",
       "1065         3                  12.9                  9.3   \n",
       "1066         3                  14.9                 10.2   \n",
       "\n",
       "      FUELCONSUMPTION_COMB  FUELCONSUMPTION_COMB_MPG  CO2EMISSIONS  \n",
       "0                      8.5                        33           196  \n",
       "1                      9.6                        29           221  \n",
       "2                      5.9                        48           136  \n",
       "3                     11.1                        25           255  \n",
       "4                     10.6                        27           244  \n",
       "...                    ...                       ...           ...  \n",
       "1062                  11.8                        24           271  \n",
       "1063                  11.5                        25           264  \n",
       "1064                  11.8                        24           271  \n",
       "1065                  11.3                        25           260  \n",
       "1066                  12.8                        22           294  \n",
       "\n",
       "[1067 rows x 12 columns]"
      ]
     },
     "execution_count": 22,
     "metadata": {},
     "output_type": "execute_result"
    }
   ],
   "source": [
    "data"
   ]
  },
  {
   "cell_type": "code",
   "execution_count": 23,
   "metadata": {},
   "outputs": [
    {
     "name": "stdout",
     "output_type": "stream",
     "text": [
      "-------------  --\n",
      "FORD           90\n",
      "CHEVROLET      86\n",
      "BMW            64\n",
      "MERCEDES-BENZ  59\n",
      "TOYOTA         49\n",
      "AUDI           49\n",
      "GMC            49\n",
      "PORSCHE        44\n",
      "VOLKSWAGEN     42\n",
      "DODGE          39\n",
      "MINI           36\n",
      "NISSAN         33\n",
      "KIA            33\n",
      "CADILLAC       32\n",
      "JEEP           31\n",
      "MAZDA          27\n",
      "HYUNDAI        24\n",
      "SUBARU         23\n",
      "LEXUS          22\n",
      "JAGUAR         22\n",
      "INFINITI       21\n",
      "HONDA          21\n",
      "CHRYSLER       19\n",
      "LAND ROVER     19\n",
      "BUICK          16\n",
      "MITSUBISHI     16\n",
      "RAM            13\n",
      "ACURA          12\n",
      "LINCOLN        11\n",
      "VOLVO          11\n",
      "FIAT           10\n",
      "SCION           9\n",
      "BENTLEY         8\n",
      "ASTON MARTIN    7\n",
      "ROLLS-ROYCE     7\n",
      "MASERATI        6\n",
      "LAMBORGHINI     3\n",
      "SMART           2\n",
      "SRT             2\n",
      "-------------  --\n"
     ]
    }
   ],
   "source": [
    "from tabulate import tabulate  # used for make data in a tabulated form\n",
    "print(tabulate(pd.DataFrame(data1.MAKE.value_counts())))"
   ]
  },
  {
   "cell_type": "code",
   "execution_count": 24,
   "metadata": {},
   "outputs": [
    {
     "data": {
      "text/plain": [
       "<matplotlib.axes._subplots.AxesSubplot at 0x208cbaa80d0>"
      ]
     },
     "execution_count": 24,
     "metadata": {},
     "output_type": "execute_result"
    },
    {
     "data": {
      "image/png": "[encoded data removed]",
      "text/plain": [
       "<Figure size 1368x360 with 1 Axes>"
      ]
     },
     "metadata": {
      "needs_background": "light"
     },
     "output_type": "display_data"
    }
   ],
   "source": [
    "plt.figure(figsize=(19,5)); # give the figure size as width=19 and height = 5\n",
    "#grouping Make with its count to find the top class \n",
    "data1.groupby(\"MAKE\")[\"MAKE\"].count().sort_values(ascending=False).plot(kind=\"bar\")"
   ]
  },
  {
   "cell_type": "code",
   "execution_count": 25,
   "metadata": {},
   "outputs": [
    {
     "data": {
      "text/plain": [
       "<matplotlib.axes._subplots.AxesSubplot at 0x208cbb97430>"
      ]
     },
     "execution_count": 25,
     "metadata": {},
     "output_type": "execute_result"
    },
    {
     "data": {
      "image/png": "[encoded data removed]",
      "text/plain": [
       "<Figure size 432x288 with 1 Axes>"
      ]
     },
     "metadata": {
      "needs_background": "light"
     },
     "output_type": "display_data"
    }
   ],
   "source": [
    "data1.groupby('VEHICLECLASS')['VEHICLECLASS'].count().sort_values(ascending=False).plot(kind=\"bar\")"
   ]
  },
  {
   "cell_type": "code",
   "execution_count": 26,
   "metadata": {},
   "outputs": [
    {
     "data": {
      "text/plain": [
       "<matplotlib.axes._subplots.AxesSubplot at 0x208cbc272e0>"
      ]
     },
     "execution_count": 26,
     "metadata": {},
     "output_type": "execute_result"
    },
    {
     "data": {
      "image/png": "[encoded data removed]",
      "text/plain": [
       "<Figure size 432x288 with 1 Axes>"
      ]
     },
     "metadata": {
      "needs_background": "light"
     },
     "output_type": "display_data"
    }
   ],
   "source": [
    "data1.groupby('TRANSMISSION')['TRANSMISSION'].count().sort_values(ascending=False).plot(kind='bar')"
   ]
  },
  {
   "cell_type": "code",
   "execution_count": 27,
   "metadata": {},
   "outputs": [
    {
     "data": {
      "text/plain": [
       "<matplotlib.axes._subplots.AxesSubplot at 0x208cbc012b0>"
      ]
     },
     "execution_count": 27,
     "metadata": {},
     "output_type": "execute_result"
    },
    {
     "data": {
      "image/png": "[encoded data removed]",
      "text/plain": [
       "<Figure size 432x288 with 1 Axes>"
      ]
     },
     "metadata": {
      "needs_background": "light"
     },
     "output_type": "display_data"
    }
   ],
   "source": [
    "data1.groupby('FUELTYPE')[\"FUELTYPE\"].count().sort_values(ascending=False).plot(kind='bar')"
   ]
  },
  {
   "cell_type": "code",
   "execution_count": 28,
   "metadata": {},
   "outputs": [
    {
     "data": {
      "text/plain": [
       "<matplotlib.axes._subplots.AxesSubplot at 0x208cbc2d0a0>"
      ]
     },
     "execution_count": 28,
     "metadata": {},
     "output_type": "execute_result"
    },
    {
     "data": {
      "image/png": "[encoded data removed]",
      "text/plain": [
       "<Figure size 1800x432 with 1 Axes>"
      ]
     },
     "metadata": {
      "needs_background": "light"
     },
     "output_type": "display_data"
    }
   ],
   "source": [
    "#grouping the Make and CO2_Emissions cloumns and storing top 20 classes.\n",
    "MCO2=data1.groupby(['MAKE'])['CO2EMISSIONS'].mean().sort_values()[:20].reset_index()\n",
    "\n",
    "plt.figure(figsize=(25,6))\n",
    "#plotting the barplot between Make and CO2_Emissions column\n",
    "sns.barplot(x = \"MAKE\",y=\"CO2EMISSIONS\",data =MCO2 )"
   ]
  },
  {
   "cell_type": "code",
   "execution_count": 29,
   "metadata": {},
   "outputs": [
    {
     "data": {
      "text/plain": [
       "<matplotlib.axes._subplots.AxesSubplot at 0x208cbe11f40>"
      ]
     },
     "execution_count": 29,
     "metadata": {},
     "output_type": "execute_result"
    },
    {
     "data": {
      "image/png": "[encoded data removed]",
      "text/plain": [
       "<Figure size 1440x432 with 1 Axes>"
      ]
     },
     "metadata": {
      "needs_background": "light"
     },
     "output_type": "display_data"
    }
   ],
   "source": [
    "VC=data1.groupby('VEHICLECLASS')['CO2EMISSIONS'].mean().sort_values(ascending=False)[:10].reset_index()\n",
    "plt.figure(figsize=(20,6))\n",
    "sns.barplot(x='VEHICLECLASS',y='CO2EMISSIONS',data=VC)"
   ]
  },
  {
   "cell_type": "code",
   "execution_count": 30,
   "metadata": {},
   "outputs": [
    {
     "data": {
      "text/plain": [
       "<matplotlib.axes._subplots.AxesSubplot at 0x208cbcb2610>"
      ]
     },
     "execution_count": 30,
     "metadata": {},
     "output_type": "execute_result"
    },
    {
     "data": {
      "image/png": "[encoded data removed]",
      "text/plain": [
       "<Figure size 1440x432 with 1 Axes>"
      ]
     },
     "metadata": {
      "needs_background": "light"
     },
     "output_type": "display_data"
    }
   ],
   "source": [
    "TC=data1.groupby('TRANSMISSION')['CO2EMISSIONS'].mean().sort_values(ascending=False)[:10].reset_index()\n",
    "plt.figure(figsize=(20,6))\n",
    "sns.barplot(x='TRANSMISSION',y='CO2EMISSIONS',data=TC)"
   ]
  },
  {
   "cell_type": "code",
   "execution_count": 106,
   "metadata": {},
   "outputs": [
    {
     "data": {
      "text/plain": [
       "<matplotlib.axes._subplots.AxesSubplot at 0x208cead6d90>"
      ]
     },
     "execution_count": 106,
     "metadata": {},
     "output_type": "execute_result"
    },
    {
     "data": {
      "image/png": "[encoded data removed]",
      "text/plain": [
       "<Figure size 1080x720 with 1 Axes>"
      ]
     },
     "metadata": {
      "needs_background": "light"
     },
     "output_type": "display_data"
    }
   ],
   "source": [
    "FC=data1.groupby('FUELTYPE')['CO2EMISSIONS'].mean().sort_values()[:10].reset_index()\n",
    "plt.figure(figsize=(15,10))\n",
    "sns.barplot(y='FUELTYPE',x='CO2EMISSIONS',data=FC)"
   ]
  },
  {
   "cell_type": "code",
   "execution_count": 82,
   "metadata": {},
   "outputs": [
    {
     "data": {
      "image/png": "[encoded data removed]",
      "text/plain": [
       "<Figure size 936x360 with 1 Axes>"
      ]
     },
     "metadata": {
      "needs_background": "light"
     },
     "output_type": "display_data"
    }
   ],
   "source": [
    "plt.figure(figsize=(13,5)) \n",
    "sns.lineplot(x=data1['ENGINESIZE'], y=data1['CO2EMISSIONS'])\n",
    "plt.xlabel('Motor engine') \n",
    "plt.ylabel('CO2 emissions') \n",
    "plt.show()"
   ]
  },
  {
   "cell_type": "code",
   "execution_count": null,
   "metadata": {},
   "outputs": [],
   "source": []
  },
  {
   "cell_type": "code",
   "execution_count": 32,
   "metadata": {},
   "outputs": [
    {
     "data": {
      "image/png": "[encoded data removed]",
      "text/plain": [
       "<Figure size 1152x1152 with 2 Axes>"
      ]
     },
     "metadata": {
      "needs_background": "light"
     },
     "output_type": "display_data"
    }
   ],
   "source": [
    "corr = data.corr() #perform correlation between all continous features\n",
    "plt.subplots(figsize=(16,16));\n",
    "sns.heatmap(corr, annot=True, square=True) #plotting heatmap of correlations\n",
    "plt.title(\"Correlation matrix of numerical features\")\n",
    "plt.tight_layout()\n",
    "plt.show()"
   ]
  },
  {
   "cell_type": "code",
   "execution_count": 33,
   "metadata": {},
   "outputs": [
    {
     "data": {
      "text/plain": [
       "<matplotlib.axes._subplots.AxesSubplot at 0x208cb992b50>"
      ]
     },
     "execution_count": 33,
     "metadata": {},
     "output_type": "execute_result"
    },
    {
     "data": {
      "image/png": "[encoded data removed]",
      "text/plain": [
       "<Figure size 1152x360 with 1 Axes>"
      ]
     },
     "metadata": {
      "needs_background": "light"
     },
     "output_type": "display_data"
    }
   ],
   "source": [
    "plt.figure(figsize=(16,5))\n",
    "corr[\"CO2EMISSIONS\"].sort_values(ascending=True)[:-1].plot(kind=\"barh\")"
   ]
  },
  {
   "cell_type": "code",
   "execution_count": 34,
   "metadata": {},
   "outputs": [],
   "source": [
    "x = data.drop(['CO2EMISSIONS','FUELCONSUMPTION_COMB_MPG'],axis=1) #independet features\n",
    "x=pd.DataFrame(x)\n",
    "y = data['CO2EMISSIONS'] #depenent feature\n",
    "y=pd.DataFrame(y)"
   ]
  },
  {
   "cell_type": "code",
   "execution_count": 35,
   "metadata": {},
   "outputs": [
    {
     "name": "stdout",
     "output_type": "stream",
     "text": [
      "(853, 10)\n",
      "(214, 10)\n"
     ]
    }
   ],
   "source": [
    "x_train,x_test,y_train,y_test=train_test_split(x,y,test_size=0.2,random_state=2)\n",
    "print(x_train.shape)\n",
    "print(x_test.shape)"
   ]
  },
  {
   "cell_type": "code",
   "execution_count": 36,
   "metadata": {},
   "outputs": [],
   "source": [
    "lr=LinearRegression() #creating object of LinearRegression model\n",
    "lr1=lr.fit(x_train,y_train) # fitting our model"
   ]
  },
  {
   "cell_type": "code",
   "execution_count": 37,
   "metadata": {},
   "outputs": [
    {
     "data": {
      "text/plain": [
       "array([[307.92936839],\n",
       "       [244.53191483],\n",
       "       [296.40235734],\n",
       "       [214.63876013],\n",
       "       [180.59003192],\n",
       "       [183.73621877],\n",
       "       [313.46744002],\n",
       "       [337.89051704],\n",
       "       [325.30092314],\n",
       "       [262.6573494 ],\n",
       "       [213.58383536],\n",
       "       [199.59761241],\n",
       "       [313.58218419],\n",
       "       [245.03937502],\n",
       "       [322.19528583],\n",
       "       [261.90710871],\n",
       "       [299.9371192 ],\n",
       "       [195.26038803],\n",
       "       [205.59927641],\n",
       "       [424.11029836],\n",
       "       [218.80160477],\n",
       "       [180.72941087],\n",
       "       [307.40672062],\n",
       "       [192.21830442],\n",
       "       [209.23570191],\n",
       "       [402.70841323],\n",
       "       [257.69205869],\n",
       "       [264.58884772],\n",
       "       [254.38813955],\n",
       "       [210.73592507],\n",
       "       [289.31221894],\n",
       "       [268.39988778],\n",
       "       [255.80859948],\n",
       "       [301.69885879],\n",
       "       [393.04114016],\n",
       "       [225.32189391],\n",
       "       [203.3129157 ],\n",
       "       [176.65711646],\n",
       "       [216.98284767],\n",
       "       [392.31084567],\n",
       "       [210.97903427],\n",
       "       [298.87876797],\n",
       "       [194.40462989],\n",
       "       [235.98839823],\n",
       "       [268.13714572],\n",
       "       [299.79496014],\n",
       "       [322.19993238],\n",
       "       [310.40577902],\n",
       "       [393.51489094],\n",
       "       [300.34136156],\n",
       "       [288.44331111],\n",
       "       [259.16482807],\n",
       "       [271.87922482],\n",
       "       [196.12836849],\n",
       "       [253.23447955],\n",
       "       [275.05492726],\n",
       "       [213.41363135],\n",
       "       [188.56247814],\n",
       "       [189.68932068],\n",
       "       [234.86729501],\n",
       "       [282.1916884 ],\n",
       "       [269.8953671 ],\n",
       "       [276.4824659 ],\n",
       "       [172.55168143],\n",
       "       [179.57191431],\n",
       "       [144.63579365],\n",
       "       [326.89854747],\n",
       "       [344.21689515],\n",
       "       [186.33666087],\n",
       "       [209.80149555],\n",
       "       [293.94843744],\n",
       "       [273.26470234],\n",
       "       [293.32816361],\n",
       "       [389.87986391],\n",
       "       [214.74147786],\n",
       "       [205.50242845],\n",
       "       [183.83786994],\n",
       "       [341.32197143],\n",
       "       [258.69201716],\n",
       "       [222.11538521],\n",
       "       [291.36999486],\n",
       "       [192.91267968],\n",
       "       [208.92064741],\n",
       "       [183.34094138],\n",
       "       [371.61063323],\n",
       "       [162.17238204],\n",
       "       [150.08674982],\n",
       "       [253.68817383],\n",
       "       [220.91458459],\n",
       "       [371.34428998],\n",
       "       [180.02389111],\n",
       "       [323.82175117],\n",
       "       [375.72166834],\n",
       "       [374.36126572],\n",
       "       [207.44287907],\n",
       "       [320.19666545],\n",
       "       [213.8651237 ],\n",
       "       [193.23892049],\n",
       "       [253.12995   ],\n",
       "       [204.71598293],\n",
       "       [237.14806003],\n",
       "       [207.74613717],\n",
       "       [366.39490165],\n",
       "       [218.72209231],\n",
       "       [304.24658236],\n",
       "       [359.30435763],\n",
       "       [167.88113327],\n",
       "       [244.39896364],\n",
       "       [204.85607121],\n",
       "       [208.08167418],\n",
       "       [201.55420954],\n",
       "       [261.08295418],\n",
       "       [309.64131002],\n",
       "       [299.41378783],\n",
       "       [326.37589971],\n",
       "       [347.28421667],\n",
       "       [391.66901999],\n",
       "       [212.96509718],\n",
       "       [271.93961661],\n",
       "       [207.37311106],\n",
       "       [271.72547558],\n",
       "       [282.92713681],\n",
       "       [252.70687016],\n",
       "       [354.18867693],\n",
       "       [198.06224714],\n",
       "       [400.58134722],\n",
       "       [264.37867751],\n",
       "       [332.13973237],\n",
       "       [169.66739819],\n",
       "       [260.16401318],\n",
       "       [291.49504875],\n",
       "       [381.34862298],\n",
       "       [206.33404752],\n",
       "       [195.00083313],\n",
       "       [248.18980645],\n",
       "       [268.50289974],\n",
       "       [208.24252423],\n",
       "       [203.96269831],\n",
       "       [254.83705313],\n",
       "       [211.86229458],\n",
       "       [280.94963341],\n",
       "       [189.75266141],\n",
       "       [201.87059343],\n",
       "       [208.03855431],\n",
       "       [221.1707125 ],\n",
       "       [237.3997363 ],\n",
       "       [203.05300692],\n",
       "       [227.30158245],\n",
       "       [280.44698464],\n",
       "       [331.77401788],\n",
       "       [226.51451166],\n",
       "       [233.04428379],\n",
       "       [235.20493117],\n",
       "       [343.43599685],\n",
       "       [182.36417723],\n",
       "       [276.20475234],\n",
       "       [203.23672213],\n",
       "       [228.28330526],\n",
       "       [351.00129399],\n",
       "       [229.82554062],\n",
       "       [195.92804257],\n",
       "       [199.84776468],\n",
       "       [185.77689798],\n",
       "       [309.33626463],\n",
       "       [203.03019857],\n",
       "       [175.95977851],\n",
       "       [315.8088157 ],\n",
       "       [245.2458669 ],\n",
       "       [245.55281416],\n",
       "       [227.0715032 ],\n",
       "       [258.69201716],\n",
       "       [195.73677026],\n",
       "       [285.4031462 ],\n",
       "       [360.05288496],\n",
       "       [206.72923935],\n",
       "       [244.04582008],\n",
       "       [162.99520924],\n",
       "       [207.98552112],\n",
       "       [184.71621091],\n",
       "       [183.16429758],\n",
       "       [362.6780054 ],\n",
       "       [206.63979287],\n",
       "       [265.63161043],\n",
       "       [317.33060052],\n",
       "       [340.30084422],\n",
       "       [159.3405369 ],\n",
       "       [192.63983033],\n",
       "       [181.73806998],\n",
       "       [233.57431661],\n",
       "       [227.3612545 ],\n",
       "       [182.53413984],\n",
       "       [296.47790552],\n",
       "       [344.79175968],\n",
       "       [188.00023117],\n",
       "       [303.29533196],\n",
       "       [203.99602301],\n",
       "       [190.28325844],\n",
       "       [254.83705313],\n",
       "       [323.63419643],\n",
       "       [296.56821479],\n",
       "       [259.70539317],\n",
       "       [326.37589971],\n",
       "       [221.05580101],\n",
       "       [303.23843294],\n",
       "       [211.81466955],\n",
       "       [326.37589971],\n",
       "       [193.24958465],\n",
       "       [223.57424112],\n",
       "       [232.63803665],\n",
       "       [252.30581665],\n",
       "       [244.27342548],\n",
       "       [264.80543843],\n",
       "       [278.22943021],\n",
       "       [393.66831748]])"
      ]
     },
     "execution_count": 37,
     "metadata": {},
     "output_type": "execute_result"
    }
   ],
   "source": [
    "y_pred=lr.predict(x_test)\n",
    "y_pred"
   ]
  },
  {
   "cell_type": "code",
   "execution_count": 38,
   "metadata": {},
   "outputs": [
    {
     "data": {
      "text/plain": [
       "0.908498244199137"
      ]
     },
     "execution_count": 38,
     "metadata": {},
     "output_type": "execute_result"
    }
   ],
   "source": [
    "score = lr.score(x_test,y_test)\n",
    "score"
   ]
  },
  {
   "cell_type": "code",
   "execution_count": 39,
   "metadata": {},
   "outputs": [
    {
     "name": "stdout",
     "output_type": "stream",
     "text": [
      "MAE: 15.295332252292466\n",
      "MSE: 423.71454278860205\n",
      "RMSE: 20.584327601080442\n"
     ]
    }
   ],
   "source": [
    "from sklearn import metrics #importing the metrics library\n",
    "print(\"MAE:\",metrics.mean_absolute_error(y_test,y_pred)) #Mean Absolute Error\n",
    "print(\"MSE:\",metrics.mean_squared_error(y_test,y_pred)) # Mean Square Error\n",
    "print(\"RMSE:\",np.sqrt(metrics.mean_squared_error(y_test,y_pred))) # Root Mean Square Error"
   ]
  },
  {
   "cell_type": "code",
   "execution_count": 40,
   "metadata": {},
   "outputs": [],
   "source": [
    "def evaluate(model, test_features, test_labels):\n",
    "    predictions = model.predict(test_features)\n",
    "    errors = abs(predictions - test_labels)\n",
    "    mape = 100 * np.mean(errors / test_labels)\n",
    "    accuracy = 100 - mape\n",
    "    print('Model Performance')\n",
    "    #print('Average Error: {:0.4f} degrees.'.format(np.mean(errors)))\n",
    "    #print('Accuracy = {:0.2f}%.'.format(accuracy))\n",
    "    \n",
    "    return accuracy"
   ]
  },
  {
   "cell_type": "code",
   "execution_count": 41,
   "metadata": {},
   "outputs": [
    {
     "name": "stdout",
     "output_type": "stream",
     "text": [
      "Model Performance\n"
     ]
    }
   ],
   "source": [
    "lr_regressors=evaluate(lr1,x_test,y_test)"
   ]
  },
  {
   "cell_type": "code",
   "execution_count": 42,
   "metadata": {},
   "outputs": [
    {
     "data": {
      "text/plain": [
       "CO2EMISSIONS    93.862202\n",
       "dtype: float64"
      ]
     },
     "execution_count": 42,
     "metadata": {},
     "output_type": "execute_result"
    }
   ],
   "source": [
    "lr_regressors"
   ]
  },
  {
   "cell_type": "code",
   "execution_count": 43,
   "metadata": {},
   "outputs": [],
   "source": [
    "from sklearn.ensemble import RandomForestRegressor"
   ]
  },
  {
   "cell_type": "code",
   "execution_count": 44,
   "metadata": {},
   "outputs": [],
   "source": [
    "rf_model = RandomForestRegressor(n_estimators=100)"
   ]
  },
  {
   "cell_type": "code",
   "execution_count": 45,
   "metadata": {},
   "outputs": [],
   "source": [
    "y_test = np.ravel(y_test, order='C')"
   ]
  },
  {
   "cell_type": "code",
   "execution_count": 46,
   "metadata": {
    "scrolled": true
   },
   "outputs": [
    {
     "name": "stderr",
     "output_type": "stream",
     "text": [
      "<ipython-input-46-6f02d39347fb>:1: DataConversionWarning: A column-vector y was passed when a 1d array was expected. Please change the shape of y to (n_samples,), for example using ravel().\n",
      "  rf_model = rf_model.fit(x_train,y_train)\n"
     ]
    }
   ],
   "source": [
    "rf_model = rf_model.fit(x_train,y_train)"
   ]
  },
  {
   "cell_type": "code",
   "execution_count": 47,
   "metadata": {},
   "outputs": [],
   "source": [
    "y_pred= rf_model.predict(x_test)"
   ]
  },
  {
   "cell_type": "code",
   "execution_count": 48,
   "metadata": {},
   "outputs": [
    {
     "data": {
      "text/plain": [
       "array([291.26, 287.85, 301.19, 273.1 , 169.95, 168.19, 326.48, 370.88,\n",
       "       346.9 , 258.  , 241.88, 196.87, 315.78, 254.98, 337.41, 262.04,\n",
       "       284.54, 195.97, 200.  , 419.55, 211.99, 160.92, 291.24, 169.69,\n",
       "       230.02, 392.09, 255.03, 264.  , 244.  , 225.  , 263.33, 271.06,\n",
       "       258.  , 306.09, 351.31, 238.26, 185.87, 199.97, 209.  , 393.21,\n",
       "       204.95, 308.34, 191.  , 243.88, 264.92, 296.45, 347.49, 297.88,\n",
       "       393.21, 309.33, 264.23, 255.03, 297.23, 195.91, 242.02, 280.89,\n",
       "       236.26, 178.92, 177.  , 239.91, 289.98, 283.  , 280.8 , 142.44,\n",
       "       179.05, 123.04, 317.  , 327.42, 193.81, 236.24, 259.38, 270.99,\n",
       "       314.28, 432.29, 241.47, 188.58, 166.86, 381.98, 273.91, 230.44,\n",
       "       272.07, 167.73, 211.99, 175.02, 334.58, 133.79, 190.61, 253.02,\n",
       "       216.  , 411.16, 167.92, 308.2 , 359.21, 414.22, 198.  , 333.89,\n",
       "       217.97, 202.01, 242.02, 216.04, 241.97, 184.12, 415.83, 225.  ,\n",
       "       315.51, 398.1 , 128.1 , 283.02, 198.12, 211.99, 230.04, 260.  ,\n",
       "       294.05, 296.82, 317.  , 318.16, 380.16, 238.23, 284.91, 231.92,\n",
       "       294.08, 283.  , 237.03, 379.9 , 191.04, 387.19, 262.04, 354.55,\n",
       "       141.88, 279.15, 296.99, 408.32, 202.01, 209.  , 252.25, 224.71,\n",
       "       206.98, 188.56, 251.  , 221.04, 250.81, 177.05, 195.99, 206.98,\n",
       "       206.86, 264.02, 192.95, 230.02, 283.  , 351.71, 231.98, 217.98,\n",
       "       232.  , 339.35, 191.  , 280.92, 205.06, 244.03, 380.29, 232.  ,\n",
       "       184.  , 198.  , 178.89, 322.7 , 209.  , 179.05, 340.07, 225.08,\n",
       "       253.02, 235.02, 273.91, 176.96, 294.03, 359.03, 194.51, 214.28,\n",
       "       146.32, 206.94, 158.82, 207.  , 399.59, 206.97, 284.88, 324.11,\n",
       "       355.66, 192.28, 184.43, 196.  , 246.  , 230.02, 166.13, 281.04,\n",
       "       409.4 , 178.94, 298.37, 188.44, 182.13, 251.  , 313.05, 294.47,\n",
       "       253.02, 317.  , 209.  , 283.6 , 246.22, 317.  , 171.98, 217.96,\n",
       "       237.08, 234.95, 251.  , 257.91, 276.02, 351.17])"
      ]
     },
     "execution_count": 48,
     "metadata": {},
     "output_type": "execute_result"
    }
   ],
   "source": [
    "y_pred"
   ]
  },
  {
   "cell_type": "code",
   "execution_count": 49,
   "metadata": {},
   "outputs": [],
   "source": [
    "from sklearn.metrics import r2_score,mean_squared_error,mean_absolute_error"
   ]
  },
  {
   "cell_type": "code",
   "execution_count": 50,
   "metadata": {},
   "outputs": [
    {
     "data": {
      "text/plain": [
       "0.9894201334199308"
      ]
     },
     "execution_count": 50,
     "metadata": {},
     "output_type": "execute_result"
    }
   ],
   "source": [
    "r2_score(y_test,y_pred)"
   ]
  },
  {
   "cell_type": "code",
   "execution_count": 51,
   "metadata": {},
   "outputs": [
    {
     "data": {
      "text/plain": [
       "48.99188317757008"
      ]
     },
     "execution_count": 51,
     "metadata": {},
     "output_type": "execute_result"
    }
   ],
   "source": [
    "mean_squared_error(y_test,y_pred)"
   ]
  },
  {
   "cell_type": "code",
   "execution_count": 52,
   "metadata": {},
   "outputs": [],
   "source": [
    "import pickle\n",
    "pickle.dump(rf_model,open(\"CO2 emission.pkl\",'wb'))"
   ]
  },
  {
   "cell_type": "code",
   "execution_count": 53,
   "metadata": {},
   "outputs": [],
   "source": [
    "def evaluate(model, test_features, test_labels):\n",
    "    predictions = model.predict(test_features)\n",
    "    errors = abs(predictions - test_labels)\n",
    "    mape = 100 * np.mean(errors / test_labels)\n",
    "    accuracy = 100 - mape\n",
    "    print('Model Performance')\n",
    "    print('Average Error: {:0.4f} degrees.'.format(np.mean(errors)))\n",
    "    print('Accuracy = {:0.2f}%.'.format(accuracy))\n",
    "    \n",
    "    return accuracy"
   ]
  },
  {
   "cell_type": "code",
   "execution_count": 54,
   "metadata": {},
   "outputs": [
    {
     "name": "stdout",
     "output_type": "stream",
     "text": [
      "Model Performance\n",
      "Average Error: 1.4453 degrees.\n",
      "Accuracy = 99.45%.\n"
     ]
    }
   ],
   "source": [
    "rf_regressors=evaluate(rf_model,x_test,y_test)"
   ]
  },
  {
   "cell_type": "code",
   "execution_count": 55,
   "metadata": {},
   "outputs": [],
   "source": [
    "from sklearn.svm import LinearSVR"
   ]
  },
  {
   "cell_type": "code",
   "execution_count": 56,
   "metadata": {},
   "outputs": [],
   "source": [
    "svr = LinearSVR()"
   ]
  },
  {
   "cell_type": "code",
   "execution_count": 57,
   "metadata": {},
   "outputs": [
    {
     "name": "stderr",
     "output_type": "stream",
     "text": [
      "D:\\Anaconda\\lib\\site-packages\\sklearn\\utils\\validation.py:73: DataConversionWarning: A column-vector y was passed when a 1d array was expected. Please change the shape of y to (n_samples, ), for example using ravel().\n",
      "  return f(**kwargs)\n",
      "D:\\Anaconda\\lib\\site-packages\\sklearn\\svm\\_base.py:976: ConvergenceWarning: Liblinear failed to converge, increase the number of iterations.\n",
      "  warnings.warn(\"Liblinear failed to converge, increase \"\n"
     ]
    }
   ],
   "source": [
    "modelsvr = svr.fit(x_train,y_train)"
   ]
  },
  {
   "cell_type": "code",
   "execution_count": 58,
   "metadata": {},
   "outputs": [],
   "source": [
    "y_predsvr = modelsvr.predict(x_test)"
   ]
  },
  {
   "cell_type": "code",
   "execution_count": 59,
   "metadata": {},
   "outputs": [
    {
     "data": {
      "text/plain": [
       "array([295.28419084, 271.4407191 , 297.03701477, 250.53223468,\n",
       "       195.2286895 , 193.50681754, 318.58575764, 345.37048403,\n",
       "       330.79976152, 260.44823489, 236.5998566 , 210.47216042,\n",
       "       311.76456841, 257.58382771, 321.89555369, 262.85634865,\n",
       "       346.22920094, 207.74898064, 213.94549984, 397.41729383,\n",
       "       230.08446669, 191.38343651, 295.13705212, 197.22875115,\n",
       "       235.76953478, 377.82036034, 261.68758275, 264.56114193,\n",
       "       252.02126611, 227.39111356, 281.70385766, 273.12601974,\n",
       "       259.0276804 , 299.35750574, 422.46799755, 243.17478567,\n",
       "       213.2640833 , 208.12727334, 228.57024452, 370.17988506,\n",
       "       218.83031168, 300.76990249, 214.81505113, 247.17165988,\n",
       "       275.18935827, 298.5414903 , 330.48837257, 299.01707856,\n",
       "       371.0604069 , 302.51064559, 327.82453552, 262.73016347,\n",
       "       287.58965522, 210.23783177, 250.53343872, 280.17273185,\n",
       "       240.86663673, 200.80753281, 199.63556252, 273.56194735,\n",
       "       285.3511601 , 276.35105609, 280.3876259 , 182.44917049,\n",
       "       202.59114342, 166.70864713, 315.0338963 , 325.35901971,\n",
       "       207.21415276, 238.22507122, 328.96490745, 276.28073597,\n",
       "       296.98923408, 385.53782002, 241.33322616, 217.1162764 ,\n",
       "       192.2843233 , 344.55172527, 269.4204334 , 231.66679951,\n",
       "       287.57956235, 197.48572575, 220.463792  , 195.05522363,\n",
       "       406.3327042 , 177.34185718, 190.36997767, 264.51124109,\n",
       "       233.13597297, 369.87508381, 193.66157864, 304.70919008,\n",
       "       351.92009854, 372.08310466, 216.30627777, 317.62232185,\n",
       "       224.53992653, 210.6691808 , 250.50401097, 220.4239546 ,\n",
       "       248.06594937, 214.82921062, 366.44652062, 230.0148141 ,\n",
       "       304.9784396 , 361.7962852 , 178.1436479 , 264.94157213,\n",
       "       213.25778973, 225.31419702, 227.70659644, 263.12968913,\n",
       "       303.76638817, 296.28866883, 314.88675757, 384.30792311,\n",
       "       369.25180941, 255.93390448, 277.33649041, 231.27099254,\n",
       "       287.27195778, 282.55003798, 260.01849224, 352.49697388,\n",
       "       206.96105385, 445.51745727, 263.85135503, 336.91927535,\n",
       "       183.05829142, 277.03480045, 293.83741807, 378.05835646,\n",
       "       215.08082964, 217.14492364, 255.05978347, 292.00875154,\n",
       "       217.84377964, 214.45437869, 254.67887354, 224.39429811,\n",
       "       316.21574396, 229.03145512, 212.84822481, 217.89245392,\n",
       "       228.40804062, 255.52147505, 215.13811431, 238.60770547,\n",
       "       281.8242666 , 331.78037203, 240.35033235, 236.06146475,\n",
       "       245.45254249, 329.81310361, 206.00983278, 280.49643705,\n",
       "       216.73889238, 244.91667727, 351.57051567, 242.58731155,\n",
       "       214.66427307, 211.38585635, 205.69223294, 311.71595767,\n",
       "       226.47542999, 199.94957791, 321.45711967, 250.28311557,\n",
       "       257.49027909, 240.54732321, 269.4204334 , 203.0032535 ,\n",
       "       288.86113043, 347.67529554, 221.76160194, 237.22784402,\n",
       "       177.29986704, 217.90665202, 192.57702242, 212.35890958,\n",
       "       361.02515838, 222.8844607 , 281.38451751, 315.63430107,\n",
       "       333.88558429, 197.77792642, 211.03504846, 208.65964925,\n",
       "       249.17256515, 237.94965036, 194.61078019, 288.84591491,\n",
       "       364.34213992, 208.75479627, 303.09609268, 214.67962623,\n",
       "       202.72270932, 254.67887354, 309.4822339 , 292.33543246,\n",
       "       261.2052966 , 314.88675757, 229.1081749 , 345.79861746,\n",
       "       245.01470693, 314.88675757, 203.63700418, 233.93818242,\n",
       "       245.21853398, 246.23720531, 255.98458253, 266.06207965,\n",
       "       277.64212014, 422.64456403])"
      ]
     },
     "execution_count": 59,
     "metadata": {},
     "output_type": "execute_result"
    }
   ],
   "source": [
    "y_predsvr"
   ]
  },
  {
   "cell_type": "code",
   "execution_count": 60,
   "metadata": {},
   "outputs": [
    {
     "data": {
      "text/plain": [
       "0.8709142825145407"
      ]
     },
     "execution_count": 60,
     "metadata": {},
     "output_type": "execute_result"
    }
   ],
   "source": [
    "r2_score(y_test,y_predsvr)"
   ]
  },
  {
   "cell_type": "code",
   "execution_count": 61,
   "metadata": {},
   "outputs": [
    {
     "data": {
      "text/plain": [
       "597.7535106968315"
      ]
     },
     "execution_count": 61,
     "metadata": {},
     "output_type": "execute_result"
    }
   ],
   "source": [
    "mean_squared_error(y_test,y_predsvr)"
   ]
  },
  {
   "cell_type": "code",
   "execution_count": 62,
   "metadata": {},
   "outputs": [],
   "source": [
    "def evaluate(model, test_features, test_labels):\n",
    "    predictions = model.predict(test_features)\n",
    "    errors = abs(predictions - test_labels)\n",
    "    mape = 100 * np.mean(errors / test_labels)\n",
    "    accuracy = 100 - mape\n",
    "    print('Model Performance')\n",
    "    print('Average Error: {:0.4f} degrees.'.format(np.mean(errors)))\n",
    "    print('Accuracy = {:0.2f}%.'.format(accuracy))\n",
    "    \n",
    "    return accuracy"
   ]
  },
  {
   "cell_type": "code",
   "execution_count": 63,
   "metadata": {},
   "outputs": [
    {
     "name": "stdout",
     "output_type": "stream",
     "text": [
      "Model Performance\n",
      "Average Error: 17.6863 degrees.\n",
      "Accuracy = 92.43%.\n"
     ]
    }
   ],
   "source": [
    "svr=evaluate(modelsvr,x_test,y_test)"
   ]
  },
  {
   "cell_type": "code",
   "execution_count": 64,
   "metadata": {},
   "outputs": [],
   "source": [
    "from sklearn.neighbors import KNeighborsRegressor"
   ]
  },
  {
   "cell_type": "code",
   "execution_count": 65,
   "metadata": {},
   "outputs": [],
   "source": [
    "knn = KNeighborsRegressor(n_neighbors=3)"
   ]
  },
  {
   "cell_type": "code",
   "execution_count": 66,
   "metadata": {},
   "outputs": [],
   "source": [
    "modeknn = knn.fit(x_train,y_train)"
   ]
  },
  {
   "cell_type": "code",
   "execution_count": 67,
   "metadata": {},
   "outputs": [],
   "source": [
    "y_predknn = modeknn.predict(x_test)"
   ]
  },
  {
   "cell_type": "code",
   "execution_count": 68,
   "metadata": {},
   "outputs": [
    {
     "data": {
      "text/plain": [
       "0.9226483553169307"
      ]
     },
     "execution_count": 68,
     "metadata": {},
     "output_type": "execute_result"
    }
   ],
   "source": [
    "r2_score(y_test,y_predknn)"
   ]
  },
  {
   "cell_type": "code",
   "execution_count": 69,
   "metadata": {},
   "outputs": [],
   "source": [
    "from sklearn.ensemble import GradientBoostingRegressor"
   ]
  },
  {
   "cell_type": "code",
   "execution_count": 70,
   "metadata": {},
   "outputs": [],
   "source": [
    "gb = GradientBoostingRegressor()"
   ]
  },
  {
   "cell_type": "code",
   "execution_count": 71,
   "metadata": {},
   "outputs": [
    {
     "name": "stderr",
     "output_type": "stream",
     "text": [
      "D:\\Anaconda\\lib\\site-packages\\sklearn\\utils\\validation.py:73: DataConversionWarning: A column-vector y was passed when a 1d array was expected. Please change the shape of y to (n_samples, ), for example using ravel().\n",
      "  return f(**kwargs)\n"
     ]
    }
   ],
   "source": [
    "modelgb = gb.fit(x_train,y_train)"
   ]
  },
  {
   "cell_type": "code",
   "execution_count": 72,
   "metadata": {},
   "outputs": [],
   "source": [
    "y_predknn = modelgb.predict(x_test)"
   ]
  },
  {
   "cell_type": "code",
   "execution_count": 73,
   "metadata": {},
   "outputs": [
    {
     "data": {
      "text/plain": [
       "0.9948059978749587"
      ]
     },
     "execution_count": 73,
     "metadata": {},
     "output_type": "execute_result"
    }
   ],
   "source": [
    "r2_score(y_test,y_predknn)"
   ]
  },
  {
   "cell_type": "code",
   "execution_count": 74,
   "metadata": {},
   "outputs": [],
   "source": [
    "from sklearn.ensemble import AdaBoostRegressor"
   ]
  },
  {
   "cell_type": "code",
   "execution_count": 75,
   "metadata": {},
   "outputs": [],
   "source": [
    "ada = AdaBoostRegressor()"
   ]
  },
  {
   "cell_type": "code",
   "execution_count": 76,
   "metadata": {},
   "outputs": [
    {
     "name": "stderr",
     "output_type": "stream",
     "text": [
      "D:\\Anaconda\\lib\\site-packages\\sklearn\\utils\\validation.py:73: DataConversionWarning: A column-vector y was passed when a 1d array was expected. Please change the shape of y to (n_samples, ), for example using ravel().\n",
      "  return f(**kwargs)\n"
     ]
    }
   ],
   "source": [
    "modeada = ada.fit(x_train,y_train)"
   ]
  },
  {
   "cell_type": "code",
   "execution_count": 77,
   "metadata": {},
   "outputs": [],
   "source": [
    "y_predada = modeada.predict(x_test)"
   ]
  },
  {
   "cell_type": "code",
   "execution_count": 78,
   "metadata": {},
   "outputs": [
    {
     "data": {
      "text/plain": [
       "0.9533088598126658"
      ]
     },
     "execution_count": 78,
     "metadata": {},
     "output_type": "execute_result"
    }
   ],
   "source": [
    "r2_score(y_test,y_predada)"
   ]
  },
  {
   "cell_type": "code",
   "execution_count": 79,
   "metadata": {},
   "outputs": [
    {
     "data": {
      "text/plain": [
       "216.21131686052567"
      ]
     },
     "execution_count": 79,
     "metadata": {},
     "output_type": "execute_result"
    }
   ],
   "source": [
    "mean_squared_error(y_test,y_predada)"
   ]
  },
  {
   "cell_type": "code",
   "execution_count": null,
   "metadata": {},
   "outputs": [],
   "source": []
  },
  {
   "cell_type": "code",
   "execution_count": null,
   "metadata": {},
   "outputs": [],
   "source": []
  }
 ],
 "metadata": {
  "kernelspec": {
   "display_name": "Python 3 (ipykernel)",
   "language": "python",
   "name": "python3"
  },
  "language_info": {
   "codemirror_mode": {
    "name": "ipython",
    "version": 3
   },
   "file_extension": ".py",
   "mimetype": "text/x-python",
   "name": "python",
   "nbconvert_exporter": "python",
   "pygments_lexer": "ipython3",
   "version": "3.11.7"
  }
 },
 "nbformat": 4,
 "nbformat_minor": 4
}
